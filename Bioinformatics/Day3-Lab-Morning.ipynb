{
 "cells": [
  {
   "cell_type": "markdown",
   "id": "b9ce67bf",
   "metadata": {},
   "source": [
    "# Lab Day 3 - Origin of Replication Part 2\n",
    "The goal of lab today is to write some code to help us find the origin of replication for any bacterial genome.\n",
    "\n",
    "*Adapted from Chapter 1 of Bioinformatics Algorithms*"
   ]
  },
  {
   "cell_type": "markdown",
   "id": "6a328f41",
   "metadata": {},
   "source": [
    "***\n",
    "Since we are picking up where we left off yesterday, you should import your functions from yesterday into your workspace. I have included `Day2_Lab.py` on Moodle which includes all relevant functions. You may import that document here if you wish."
   ]
  },
  {
   "cell_type": "code",
   "execution_count": 1,
   "id": "572a66a7",
   "metadata": {},
   "outputs": [],
   "source": [
    "from Day2_Lab import * # Load all functions directly into your workspace"
   ]
  },
  {
   "cell_type": "markdown",
   "id": "14b255b1",
   "metadata": {},
   "source": [
    "*** \n",
    "\n",
    "## Step 3: Use Skew to Find Ori\n",
    "\n",
    "We found hundreds of possibilities and are no closer to finding the Ori in E. coli. Let's try using our skew calculations.\n",
    "\n",
    "*** \n",
    "\n",
    "#### (1) Write a function that will calculate the skew at each position of a genome.\n",
    "\n",
    "$$skew_i(genome) = count_i(G) - count_i(C)$$\n",
    "\n",
    "$skew_0(genome) = 0$ <br><br>\n",
    "$ skew_{i+1}(genome) = \\left\\{\n",
    "\\begin{array}{lr}\n",
    "    skew_i(genome),       genome_i \\subset A, T \\\\\n",
    "    skew_i(genome)+1,     genome_i = G \\\\\n",
    "    skew_i(genome)-1,     genome_i = C \\\\\n",
    "\\end{array}\n",
    "\\right. $ \n",
    "\n",
    "`Skew(\"CATGGGCATCGGCCATACGCC\")` would have an output of `[0, -1, -1, -1, 0, 1, 2, 1, 1, 1, 0, 1, 2, 1, 0, 0, 0, 0, -1, 0, -1, -2]`"
   ]
  },
  {
   "cell_type": "code",
   "execution_count": null,
   "id": "1ed50942",
   "metadata": {},
   "outputs": [],
   "source": []
  },
  {
   "cell_type": "code",
   "execution_count": null,
   "id": "18ad0f07",
   "metadata": {},
   "outputs": [],
   "source": []
  },
  {
   "cell_type": "code",
   "execution_count": null,
   "id": "b54f3296",
   "metadata": {},
   "outputs": [],
   "source": []
  },
  {
   "cell_type": "markdown",
   "id": "a6d9730e",
   "metadata": {},
   "source": [
    "#### (2) Try plotting E. Coli's skew.\n",
    "\n",
    "The package matplotlib has many plotting capabilities. `import matplotlib.pyplot as plt` (convention in the field) and use the plot function to visualize the skew. For help, try `help(plt.plot)` or search google. "
   ]
  },
  {
   "cell_type": "code",
   "execution_count": null,
   "id": "bf468551",
   "metadata": {},
   "outputs": [],
   "source": []
  },
  {
   "cell_type": "code",
   "execution_count": null,
   "id": "c0e0e041",
   "metadata": {},
   "outputs": [],
   "source": []
  },
  {
   "cell_type": "markdown",
   "id": "e3fc2fde",
   "metadata": {},
   "source": [
    "#### (3) Calculate and plot the skew for the E.coli genome."
   ]
  },
  {
   "cell_type": "code",
   "execution_count": null,
   "id": "ea1321e3",
   "metadata": {},
   "outputs": [],
   "source": []
  },
  {
   "cell_type": "code",
   "execution_count": null,
   "id": "aed2c62c",
   "metadata": {},
   "outputs": [],
   "source": []
  },
  {
   "cell_type": "markdown",
   "id": "bd0acc32",
   "metadata": {},
   "source": [
    "#### (4) Now, write a function to find all the locations that skew is minimized. These are our candidates for Ori. \n",
    "`MinimizeSkew(\"TAAAGACTGCCGAGAGGCCAACACGAGTGCTAGAACGAGGGGCGTAAACGCGGGTCCGAT\")` would have an output of `[11, 24]`"
   ]
  },
  {
   "cell_type": "code",
   "execution_count": null,
   "id": "b3ed5fd8",
   "metadata": {},
   "outputs": [],
   "source": []
  },
  {
   "cell_type": "markdown",
   "id": "363173b1",
   "metadata": {},
   "source": [
    "#### (5) What position(s) minimize the skew in E.coli?"
   ]
  },
  {
   "cell_type": "code",
   "execution_count": null,
   "id": "9ed6ddfa",
   "metadata": {},
   "outputs": [],
   "source": []
  },
  {
   "cell_type": "markdown",
   "id": "7a8fc3ce",
   "metadata": {},
   "source": []
  },
  {
   "cell_type": "markdown",
   "id": "4f629567",
   "metadata": {},
   "source": [
    "#### (6) Use that position and a window size of 500 to see if any 9-mers, and their reverse complements, appear together 3 or more times?"
   ]
  },
  {
   "cell_type": "code",
   "execution_count": null,
   "id": "02c2d13d",
   "metadata": {},
   "outputs": [],
   "source": []
  },
  {
   "cell_type": "markdown",
   "id": "2d53cdad",
   "metadata": {},
   "source": [
    "***\n",
    "## Step 4: Account for Mismatches\n",
    "It seems that we are stuck again. We have an approximate location for the Ori but we haven't found the DnaA Box yet. We need to turn back to biology for some help here. \n",
    "\n",
    "Small genetic variations occur frequently and biology is often flexible enough to handle the differing situations. That being said, DnaA will bind imperfect DnaA boxes. We need to account for that in our code.\n",
    "\n",
    "We can measure how close two k-mers are using the <font color = #800080><b>Hamming Distance</b></font>. The Hamming Distance will calculate the number of mis-matches (locations where the two nucleotides are not exact) between two k-mers. For example, `CGAAT` and `CGGAC` have a two mismatches. \n",
    "\n",
    "#### (7) Write a function to calculate the hamming distance between two strings.\n",
    "\n",
    "An input of `HammingDist(\"GGGCCGTTGGT\", \"GGACCGTTGAC\")` will have an output of `3`"
   ]
  },
  {
   "cell_type": "code",
   "execution_count": null,
   "id": "d1b2ac15",
   "metadata": {},
   "outputs": [],
   "source": []
  },
  {
   "cell_type": "markdown",
   "id": "add01210",
   "metadata": {},
   "source": [
    "#### (8) Now, lets re-write our `PatternCount` function to allow for approximate matches - matches with a Hamming Distance $\\le$ d when compared to the pattern. Your function will take in a pattern, a genome and a Hamming Distance cut off of d.\n",
    "\n",
    "`ApproximatePatternCount(\"TTTAGAGCCTTCAGAGG\", \"GAGG\", 2)` will have an output of 4."
   ]
  },
  {
   "cell_type": "raw",
   "id": "d80030b2",
   "metadata": {},
   "source": [
    "ApproximatePatternCount(Text, Pattern, d)\n",
    "    count ← 0\n",
    "    for i ← 0 to |Text| − |Pattern|\n",
    "        Pattern′ ← Text(i , |Pattern|)\n",
    "        if HammingDistance(Pattern, Pattern′) ≤ d\n",
    "            count ← count + 1\n",
    "    return count"
   ]
  },
  {
   "cell_type": "code",
   "execution_count": null,
   "id": "b6c5156f",
   "metadata": {},
   "outputs": [],
   "source": []
  },
  {
   "cell_type": "markdown",
   "id": "9b5fb1b1",
   "metadata": {},
   "source": [
    "#### (9) Write a function that will do Approximate Pattern Matching. We want to find the locations of all approximate occurrences of a pattern in a string. Your function will take in a genome, pattern and a Hamming Distance cutoff `d`.\n",
    "\n",
    "`ApproximateMatch(\"CGCCCGAATCCAGAACGCATTCCCATATTTCGGGACCACTGGCCTCCACGGTACGGACGTCAATCAAAT\", \"ATTCTGGA\", 3)` will have an output of `[6, 7, 26, 27]`"
   ]
  },
  {
   "cell_type": "code",
   "execution_count": null,
   "id": "b6e9fc2e",
   "metadata": {},
   "outputs": [],
   "source": []
  },
  {
   "cell_type": "markdown",
   "id": "a4a56070",
   "metadata": {},
   "source": [
    "#### (10) Write a `Neighbors` function to generate all the k-mers that are in the <i>d</i>-neighborhood of a given pattern.\n",
    "\n",
    "This function uses recursion to generate a collection of k-mers in the <b><i>d</i>-neighborhood</b> of the pattern. The k-mers generated by `Neighbors(Pattern,d)` should be within a Hamming Distance of d from the pattern.\n",
    "\n",
    "`Neighbors('AA',1)` should yield an output of `{'AA', 'AC', 'AG', 'AT', 'CA', 'GA', 'TA'}`\n",
    "`Neighbors('ACG',1)` should yield an output of `{'AAG', 'ACA', 'ACC', 'ACG', 'ACT', 'AGG', 'ATG', 'CCG', 'GCG', 'TCG'}`"
   ]
  },
  {
   "cell_type": "code",
   "execution_count": null,
   "id": "b2f94de9",
   "metadata": {},
   "outputs": [],
   "source": []
  },
  {
   "cell_type": "code",
   "execution_count": null,
   "id": "90af5706",
   "metadata": {},
   "outputs": [],
   "source": []
  },
  {
   "cell_type": "markdown",
   "id": "224fe321",
   "metadata": {},
   "source": [
    "#### (11) Next up is the re-writing of our Frequent Words problem. Now, we want to find Frequent Words with Mismatches. \n",
    "To do this efficiently, we will use a frequency table  (dictionary) to count the number of times a string has an approximate match in `Text`.  \n",
    "\n",
    "Our `Neighbors` function will come in handy here.\n",
    "\n",
    "`FrequentWordsWithMismatches(\"ACGTTGCATGTCGCATGATGCATGAGAGCT\", 4, 1)` will generate a list similar to `[\"ATGC\", \"ATGT\", \"GATG\"]`"
   ]
  },
  {
   "cell_type": "raw",
   "id": "fee1f861",
   "metadata": {},
   "source": [
    "FrequentWordsWithMismatches(Text, k, d)\n",
    "    Patterns ← an array of strings of length 0\n",
    "    freqMap ← empty map\n",
    "    n ← |Text|\n",
    "    for i ← 0 to n - k\n",
    "        Pattern ← Text(i, k)\n",
    "        neighborhood ← Neighbors(Pattern, d)\n",
    "        for j ← 0 to |neighborhood| - 1\n",
    "            neighbor ← neighborhood[j]\n",
    "            freqMap[neighbor] ← freqMap.get(neighbor, 0) + 1\n",
    "    m ← MaxMap(freqMap)\n",
    "    for every key Pattern in freqMap\n",
    "        if freqMap[Pattern] = m\n",
    "            append Pattern to Patterns\n",
    "    return Patterns"
   ]
  },
  {
   "cell_type": "code",
   "execution_count": null,
   "id": "8657a20a",
   "metadata": {},
   "outputs": [],
   "source": []
  },
  {
   "cell_type": "markdown",
   "id": "507cd39a",
   "metadata": {},
   "source": [
    "#### (12) Finally, can you edit your function from part 11 to account for the reverse complement? \n",
    "\n",
    "You want your function to find all k-mers that maximize `ApproximatePatternCount(Text, Pattern, d) + ApproximatePatternCount(Text, Pattern_rc, d)` over all possible k-mers. \n",
    "\n",
    "`FrequentWordsWithMismatchesRC(\"ACGTTGCATGTCGCATGATGCATGAGAGCT\", 4, 1)` should give an output of `[\"AATT\", \"GGCC\"]`"
   ]
  },
  {
   "cell_type": "code",
   "execution_count": null,
   "id": "83a5ad56",
   "metadata": {},
   "outputs": [],
   "source": []
  },
  {
   "cell_type": "markdown",
   "id": "47a83491",
   "metadata": {},
   "source": [
    "#### (13) Lets try finding the DnaA box for E.coli again. Using the position we found in problem 17 that minimized skew and a window size of 500, look for 9-mers (with 1 mismatch and reverse complement)."
   ]
  },
  {
   "cell_type": "code",
   "execution_count": null,
   "id": "f7698f79",
   "metadata": {},
   "outputs": [],
   "source": []
  },
  {
   "cell_type": "markdown",
   "id": "93e7eecd",
   "metadata": {},
   "source": [
    "#### (14) As a part of this Ori finding exercise, we looked at three different bacterial genomes. Inside the Ori of these different genomes, we found frequent k-mers, other than our DnaA box, that occurred surprisingly frequently. Why do you think this is? "
   ]
  },
  {
   "cell_type": "markdown",
   "id": "de2114d2",
   "metadata": {},
   "source": []
  }
 ],
 "metadata": {
  "kernelspec": {
   "display_name": "Python 3",
   "language": "python",
   "name": "python3"
  },
  "language_info": {
   "codemirror_mode": {
    "name": "ipython",
    "version": 3
   },
   "file_extension": ".py",
   "mimetype": "text/x-python",
   "name": "python",
   "nbconvert_exporter": "python",
   "pygments_lexer": "ipython3",
   "version": "3.12.2"
  }
 },
 "nbformat": 4,
 "nbformat_minor": 5
}
