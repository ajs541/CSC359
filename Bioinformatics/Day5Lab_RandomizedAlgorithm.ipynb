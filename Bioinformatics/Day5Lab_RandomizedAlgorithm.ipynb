{
 "cells": [
  {
   "cell_type": "markdown",
   "id": "91a6dbb5",
   "metadata": {},
   "source": [
    "## Day 5 Lab - Randomized Motif Finding:\n",
    "\n",
    "Yesterday we wrote two different brute force algorithms to find the best consensus sequence given a set of DNA. These algorithms gave us the correct answer but were too slow to truly be useful. \n",
    "\n",
    "Now we are going to use a Monte Carlo randomized algorithm. This algorithm will quickly give us an approximation of the correct answer. The algorithm is quick so we can run it many times to get the best possible approximation. "
   ]
  },
  {
   "cell_type": "markdown",
   "id": "f4252cfd",
   "metadata": {},
   "source": [
    "#### (1) Import your relevant functions from the last several days here."
   ]
  },
  {
   "cell_type": "code",
   "execution_count": 1,
   "id": "6ab2fc6f",
   "metadata": {},
   "outputs": [],
   "source": [
    "from Day2_Lab import *"
   ]
  },
  {
   "cell_type": "markdown",
   "id": "e8e64264",
   "metadata": {},
   "source": [
    "#### (2) Write a new `ProfilePseudocounts` function that will calculate the profile for provided motifs using pseudocounts.\n",
    "\n",
    "A call of `ProfilePseudocounts(['ACCT', 'ATGT', 'GCGT', 'ACGA', 'AGGT'])` would yield an output of `np.array([[0.55555556, 0.11111111, 0.11111111, 0.22222222], [0.11111111, 0.44444444, 0.22222222, 0.11111111], [0.22222222, 0.22222222, 0.55555556, 0.11111111], [0.11111111, 0.22222222, 0.11111111, 0.55555556]])`"
   ]
  },
  {
   "cell_type": "code",
   "execution_count": 3,
   "id": "b1fbd1e8",
   "metadata": {},
   "outputs": [
    {
     "name": "stdout",
     "output_type": "stream",
     "text": [
      "[[5. 1. 1. 2.]\n",
      " [1. 4. 2. 1.]\n",
      " [2. 2. 5. 1.]\n",
      " [1. 2. 1. 5.]]\n",
      "[[0.5   0.    0.    0.125]\n",
      " [0.    0.375 0.125 0.   ]\n",
      " [0.125 0.125 0.5   0.   ]\n",
      " [0.    0.125 0.    0.5  ]]\n"
     ]
    }
   ],
   "source": [
    "def countPseudo(dna):\n",
    "    return(count(dna)+1)\n",
    "x=['ACCT', 'ATGT', 'GCGT', 'ACGA', 'AGGT']\n",
    "print(countPseudo(x))\n",
    "\n",
    "def profilePseudo(dna):\n",
    "    return count(dna)*(1/8)\n",
    "print(profilePseudo(x))\n",
    "    "
   ]
  },
  {
   "cell_type": "markdown",
   "id": "bb4fc500",
   "metadata": {},
   "source": [
    "#### (3) Write a function that will generate a consensus sequence for provided motifs.\n",
    "A call of `Consensus(['ACCT', 'ATGT', 'GCGT', 'ACGA', 'AGGT'])` would return `'ACGT'`.\n",
    "\n",
    "If two or more nucleotides are most common at a position, pick one to move forward with."
   ]
  },
  {
   "cell_type": "code",
   "execution_count": 7,
   "id": "5ab18625",
   "metadata": {},
   "outputs": [
    {
     "name": "stdout",
     "output_type": "stream",
     "text": [
      "ACGT\n"
     ]
    }
   ],
   "source": [
    "def consensus(seqList):\n",
    "    pro = profilePseudo(seqList)\n",
    "    l = len(pro)\n",
    "    final = \"\"\n",
    "    for i in range(l):\n",
    "        posMax = 0\n",
    "        pos = \"\"\n",
    "        for j in range(4):\n",
    "            if pro[j,i] > posMax:\n",
    "                posMax = pro[j,i]\n",
    "                if j==0:\n",
    "                    pos=\"A\"\n",
    "                elif j==1:\n",
    "                    pos=\"C\"\n",
    "                elif j==2:\n",
    "                    pos=\"G\"\n",
    "                elif j==3:\n",
    "                    pos=\"T\"\n",
    "        final+=pos\n",
    "    return final\n",
    "print(consensus(x))"
   ]
  },
  {
   "cell_type": "markdown",
   "id": "78a32276",
   "metadata": {},
   "source": [
    "#### (4) Write a scoring function. It is up to you to decide what score you want to use. Column score, row score, or entropy score. Take a minute to note if a higher or lower score is better for your function, this distinction will be important when implementing your randomized algorithm."
   ]
  },
  {
   "cell_type": "code",
   "execution_count": null,
   "id": "4fe98410",
   "metadata": {},
   "outputs": [],
   "source": []
  },
  {
   "cell_type": "markdown",
   "id": "b482dd3e",
   "metadata": {},
   "source": []
  },
  {
   "cell_type": "markdown",
   "id": "3f8bf42c",
   "metadata": {},
   "source": [
    "#### (5) Write a `KmerProbability` that will calculate the probability that a provided k-mer would occur given a specific profile. `KmerProbability(Profile,kmer)`.\n",
    "\n",
    "A call of `KmerProbability(np.array([[0.2, 0.2, 0.3],[0.4, 0.3, 0.1],[0.3, 0.3, 0.5],[0.1, 0.2, 0.1]]), 'CGG')` would return `0.06`. "
   ]
  },
  {
   "cell_type": "code",
   "execution_count": null,
   "id": "23e19309",
   "metadata": {},
   "outputs": [],
   "source": []
  },
  {
   "cell_type": "markdown",
   "id": "3be5eacf",
   "metadata": {},
   "source": [
    "#### (6) Write a function that will find the best, most probable, k-mer from a single DNA sequence. `KmerMostProbable(Profile, DnaSeq, k)`\n",
    "\n",
    "An call of `KmerMostProbable(np.array([[0.2, 0.2, 0.3],[0.4, 0.3, 0.1],[0.3, 0.3, 0.5],[0.1, 0.2, 0.1]]), 'CGCCCCTCTCGGGGGTGTTCAGTAAACGGCCA', 3)` would return `CGG`\n",
    "\n",
    "If multiple most probable kmers exist, pick the first to move forward with. "
   ]
  },
  {
   "cell_type": "code",
   "execution_count": null,
   "id": "f9430758",
   "metadata": {},
   "outputs": [],
   "source": []
  },
  {
   "cell_type": "markdown",
   "id": "9642c3f4",
   "metadata": {},
   "source": [
    "#### (7) Write your `Motifs(profile, Dna,k)` function. \n",
    "This function will return a set of k-mer motifs that are most probable given your profile. \n",
    "\n",
    "`Motifs(np.array([[0.4, 0.2, 0.2,0.2],[0.2, 0.4, 0.2,0.2],[0.2, 0.2, 0.4,0.2],[0.2, 0.2, 0.2,0.4]]), ['TTACCTTAAC','GATGTCTGTC','CCGGCGTTAG','CACTAACGAG','CGTCAGAGGT'], 4)` would yield an output of `['ACCT', 'ATGT', 'GCGT', 'ACGA', 'AGGT']`"
   ]
  },
  {
   "cell_type": "code",
   "execution_count": null,
   "id": "18441a1a",
   "metadata": {},
   "outputs": [],
   "source": []
  },
  {
   "cell_type": "markdown",
   "id": "8f96bd9c",
   "metadata": {},
   "source": [
    "#### (8) Write your `RandomizedMotifSearch` algorithm."
   ]
  },
  {
   "cell_type": "raw",
   "id": "f4868f97",
   "metadata": {},
   "source": [
    "RandomizedMotifSearch(Dna, k)\n",
    "    randomly select k-mers Motifs = (Motif1, …, Motift) in each string from Dna\n",
    "    BestMotifs ← Motifs\n",
    "    while forever\n",
    "        Profile ← Profile(Motifs)\n",
    "        Motifs ← Motifs(Profile, Dna)\n",
    "        if Score(Motifs) < Score(BestMotifs)\n",
    "            BestMotifs ← Motifs\n",
    "        else\n",
    "            return BestMotifs"
   ]
  },
  {
   "cell_type": "code",
   "execution_count": null,
   "id": "4f607d31",
   "metadata": {},
   "outputs": [],
   "source": []
  },
  {
   "cell_type": "markdown",
   "id": "5f19a776",
   "metadata": {},
   "source": [
    "#### (9) Our RandomizedMotifSearch is a Monte Carlo algorithm. This should execute it *many* times to get the best approximation possible. Write a driver function that will call `RandomizedMotifSearch` `N` times.  Your function should keep track of the best approximation."
   ]
  },
  {
   "cell_type": "code",
   "execution_count": 1,
   "id": "277cd088",
   "metadata": {},
   "outputs": [],
   "source": [
    "import re\n",
    "motif = open(\"subtle_motif_dataset.txt\", 'r').read()\n",
    "motifs = re.findall(r\"(?<=[*]).{15}(?=[*])\",motif)"
   ]
  },
  {
   "cell_type": "markdown",
   "id": "b576d718",
   "metadata": {},
   "source": [
    "#### (10) Download the `subtle_motif_dataset.txt` from Moodle. This dataset has 10 DNA strings of 600 nucleotides each. Inside of the dataset there is an implanted variation of the motif **AAAAAAAAGGGGGGG**. These motifs are currently marked with an `*`. "
   ]
  },
  {
   "cell_type": "code",
   "execution_count": null,
   "id": "236840e5",
   "metadata": {},
   "outputs": [],
   "source": []
  },
  {
   "cell_type": "code",
   "execution_count": null,
   "id": "b1c725aa",
   "metadata": {},
   "outputs": [],
   "source": []
  }
 ],
 "metadata": {
  "kernelspec": {
   "display_name": "Python 3",
   "language": "python",
   "name": "python3"
  },
  "language_info": {
   "codemirror_mode": {
    "name": "ipython",
    "version": 3
   },
   "file_extension": ".py",
   "mimetype": "text/x-python",
   "name": "python",
   "nbconvert_exporter": "python",
   "pygments_lexer": "ipython3",
   "version": "3.12.2"
  }
 },
 "nbformat": 4,
 "nbformat_minor": 5
}
