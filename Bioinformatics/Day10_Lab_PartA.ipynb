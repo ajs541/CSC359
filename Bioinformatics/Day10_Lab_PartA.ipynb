{
 "cells": [
  {
   "cell_type": "markdown",
   "id": "ec1c3755",
   "metadata": {},
   "source": [
    "# Day 10 Lab\n",
    "\n",
    "*Adapted from Bioinformatics Algorithms Chapter 4.*\n",
    "\n",
    "## Part A - Central Dogma of Molecular Biology \n",
    "\n",
    "#### (1) Write a function that will take a sequence of DNA and transcribe it to RNA."
   ]
  },
  {
   "cell_type": "code",
   "execution_count": 2,
   "id": "6395ba71",
   "metadata": {},
   "outputs": [
    {
     "name": "stdout",
     "output_type": "stream",
     "text": [
      "UUAGACCU\n"
     ]
    }
   ],
   "source": [
    "from Bio.Seq import Seq\n",
    "\n",
    "def dnaToRna(seqDNA):\n",
    "    seqRNA = Seq(\"\")\n",
    "    for i in range(len(seqDNA)):\n",
    "        if seqDNA[i] == 'T':\n",
    "            seqRNA+='U'\n",
    "        else:\n",
    "            seqRNA+=seqDNA[i]\n",
    "    return seqRNA\n",
    "print(dnaToRna(Seq(\"TTAGACCT\")))"
   ]
  },
  {
   "cell_type": "markdown",
   "id": "e30ba2f5",
   "metadata": {},
   "source": [
    "#### (2) Write a function that will translate an RNA string into an amino acid string. \n",
    "\n",
    "`Translate(\"AUGGCCAUGGCGCCCAGAACUGAGAUCAAUAGUACCCGUAUUAACGGGUGA\")` should yield `\"MAMAPRTEINSTRING\"`\n",
    "\n",
    "You can use the codon map below."
   ]
  },
  {
   "cell_type": "code",
   "execution_count": null,
   "id": "fd6f00a6",
   "metadata": {},
   "outputs": [],
   "source": [
    "{\"UUU\":\"F\", \"UUC\":\"F\", \"UUA\":\"L\", \"UUG\":\"L\",\n",
    "    \"UCU\":\"S\", \"UCC\":\"S\", \"UCA\":\"S\", \"UCG\":\"S\",\n",
    "    \"UAU\":\"Y\", \"UAC\":\"Y\", \"UAA\":\"STOP\", \"UAG\":\"STOP\",\n",
    "    \"UGU\":\"C\", \"UGC\":\"C\", \"UGA\":\"STOP\", \"UGG\":\"W\",\n",
    "    \"CUU\":\"L\", \"CUC\":\"L\", \"CUA\":\"L\", \"CUG\":\"L\",\n",
    "    \"CCU\":\"P\", \"CCC\":\"P\", \"CCA\":\"P\", \"CCG\":\"P\",\n",
    "    \"CAU\":\"H\", \"CAC\":\"H\", \"CAA\":\"Q\", \"CAG\":\"Q\",\n",
    "    \"CGU\":\"R\", \"CGC\":\"R\", \"CGA\":\"R\", \"CGG\":\"R\",\n",
    "    \"AUU\":\"I\", \"AUC\":\"I\", \"AUA\":\"I\", \"AUG\":\"M\",\n",
    "    \"ACU\":\"T\", \"ACC\":\"T\", \"ACA\":\"T\", \"ACG\":\"T\",\n",
    "    \"AAU\":\"N\", \"AAC\":\"N\", \"AAA\":\"K\", \"AAG\":\"K\",\n",
    "    \"AGU\":\"S\", \"AGC\":\"S\", \"AGA\":\"R\", \"AGG\":\"R\",\n",
    "    \"GUU\":\"V\", \"GUC\":\"V\", \"GUA\":\"V\", \"GUG\":\"V\",\n",
    "    \"GCU\":\"A\", \"GCC\":\"A\", \"GCA\":\"A\", \"GCG\":\"A\",\n",
    "    \"GAU\":\"D\", \"GAC\":\"D\", \"GAA\":\"E\", \"GAG\":\"E\",\n",
    "    \"GGU\":\"G\", \"GGC\":\"G\", \"GGA\":\"G\", \"GGG\":\"G\"}"
   ]
  },
  {
   "cell_type": "code",
   "execution_count": 3,
   "id": "c3f149bb",
   "metadata": {},
   "outputs": [
    {
     "name": "stdout",
     "output_type": "stream",
     "text": [
      "MAMAPRTEINSTRING\n"
     ]
    }
   ],
   "source": [
    "def rnaToAminoAcid(seqRNA):\n",
    "    seqAminoAcid = Seq(\"\")\n",
    "    dict = {\"UUU\":\"F\", \"UUC\":\"F\", \"UUA\":\"L\", \"UUG\":\"L\",\n",
    "    \"UCU\":\"S\", \"UCC\":\"S\", \"UCA\":\"S\", \"UCG\":\"S\",\n",
    "    \"UAU\":\"Y\", \"UAC\":\"Y\", \"UAA\":\"STOP\", \"UAG\":\"STOP\",\n",
    "    \"UGU\":\"C\", \"UGC\":\"C\", \"UGA\":\"STOP\", \"UGG\":\"W\",\n",
    "    \"CUU\":\"L\", \"CUC\":\"L\", \"CUA\":\"L\", \"CUG\":\"L\",\n",
    "    \"CCU\":\"P\", \"CCC\":\"P\", \"CCA\":\"P\", \"CCG\":\"P\",\n",
    "    \"CAU\":\"H\", \"CAC\":\"H\", \"CAA\":\"Q\", \"CAG\":\"Q\",\n",
    "    \"CGU\":\"R\", \"CGC\":\"R\", \"CGA\":\"R\", \"CGG\":\"R\",\n",
    "    \"AUU\":\"I\", \"AUC\":\"I\", \"AUA\":\"I\", \"AUG\":\"M\",\n",
    "    \"ACU\":\"T\", \"ACC\":\"T\", \"ACA\":\"T\", \"ACG\":\"T\",\n",
    "    \"AAU\":\"N\", \"AAC\":\"N\", \"AAA\":\"K\", \"AAG\":\"K\",\n",
    "    \"AGU\":\"S\", \"AGC\":\"S\", \"AGA\":\"R\", \"AGG\":\"R\",\n",
    "    \"GUU\":\"V\", \"GUC\":\"V\", \"GUA\":\"V\", \"GUG\":\"V\",\n",
    "    \"GCU\":\"A\", \"GCC\":\"A\", \"GCA\":\"A\", \"GCG\":\"A\",\n",
    "    \"GAU\":\"D\", \"GAC\":\"D\", \"GAA\":\"E\", \"GAG\":\"E\",\n",
    "    \"GGU\":\"G\", \"GGC\":\"G\", \"GGA\":\"G\", \"GGG\":\"G\"}\n",
    "    i = 0\n",
    "    while i<len(seqRNA):\n",
    "        temp = dict[seqRNA[i:i+3]]\n",
    "        if temp == \"STOP\":\n",
    "            return seqAminoAcid\n",
    "        else:\n",
    "            seqAminoAcid+=temp\n",
    "            i+=3\n",
    "    return seqAminoAcid\n",
    "string = \"AUGGCCAUGGCGCCCAGAACUGAGAUCAAUAGUACCCGUAUUAACGGGUGA\"\n",
    "print(rnaToAminoAcid(string))"
   ]
  },
  {
   "cell_type": "markdown",
   "id": "390ffdab",
   "metadata": {},
   "source": [
    "#### (4) Peptide Encoding Problem: Find substrings of a genome encoding a given amino acid sequence.\n",
    "\n",
    "We say that a DNA string <b>encodes</b>an amino acid Peptide if the RNA string transcribed from either Pattern or its reverse complement Pattern translates into Peptide.\n",
    "\n",
    "`PeptideEncoding(\"ATGGCCATGGCCCCCAGAACTGAGATCAATAGTACCCGTATTAACGGGTGA\", \"MA\")` outputs something like `[\"ATGGCC\",\"GGCCAT\", \"ATGGCC\"]`\n",
    "\n",
    "*Tip: Iterate through your string of DNA grabbing segments that are 3*len(peptide). transcribe, then translate the segments. If the translation is the same as your peptide, return that value back out. Do the same for the reverse complement of your DNA."
   ]
  },
  {
   "cell_type": "code",
   "execution_count": 21,
   "id": "ee5bad82",
   "metadata": {},
   "outputs": [
    {
     "name": "stdout",
     "output_type": "stream",
     "text": [
      "[Seq('ATGGCC'), Seq('GGCCAT'), Seq('ATGGCC')]\n"
     ]
    }
   ],
   "source": [
    "def peptideEncoding(seqDNA: Seq, peptide: Seq):\n",
    "    length = len(peptide)*3\n",
    "    finalList = []\n",
    "    i = 0\n",
    "    while i<len(seqDNA):\n",
    "        if i+length>len(seqDNA):\n",
    "            return finalList\n",
    "        temp = seqDNA[i:i+length]\n",
    "        tempReverse = temp.reverse_complement()\n",
    "        tempRNA = rnaToAminoAcid(dnaToRna(temp))\n",
    "        tempReverseRNA = rnaToAminoAcid(dnaToRna(tempReverse))\n",
    "        if tempRNA == peptide:\n",
    "            finalList.append(temp)\n",
    "        if tempReverseRNA == peptide:\n",
    "            finalList.append(temp)\n",
    "        i+=1\n",
    "    return finalList\n",
    "string = Seq(\"ATGGCCATGGCCCCCAGAACTGAGATCAATAGTACCCGTATTAACGGGTGA\")\n",
    "print(peptideEncoding(string, Seq(\"MA\")))"
   ]
  },
  {
   "cell_type": "markdown",
   "id": "a002c4cc",
   "metadata": {},
   "source": [
    "##### (5) Download the *Bacillus brevis* genome from moodle. Search for segments of DNA in the bacteria's genome that encode for Tyrocidine B1. How many such segments exist? "
   ]
  },
  {
   "cell_type": "code",
   "execution_count": 25,
   "id": "953a70b1",
   "metadata": {},
   "outputs": [
    {
     "ename": "KeyboardInterrupt",
     "evalue": "",
     "output_type": "error",
     "traceback": [
      "\u001b[0;31m---------------------------------------------------------------------------\u001b[0m",
      "\u001b[0;31mKeyboardInterrupt\u001b[0m                         Traceback (most recent call last)",
      "Cell \u001b[0;32mIn[25], line 4\u001b[0m\n\u001b[1;32m      2\u001b[0m bacillus \u001b[38;5;241m=\u001b[39m \u001b[38;5;28mopen\u001b[39m(\u001b[38;5;124m\"\u001b[39m\u001b[38;5;124mBacillus_brevis.txt\u001b[39m\u001b[38;5;124m\"\u001b[39m, \u001b[38;5;124m'\u001b[39m\u001b[38;5;124mr\u001b[39m\u001b[38;5;124m'\u001b[39m)\u001b[38;5;241m.\u001b[39mread()\u001b[38;5;241m.\u001b[39msplit()\n\u001b[1;32m      3\u001b[0m bacillus \u001b[38;5;241m=\u001b[39m \u001b[38;5;124m\"\u001b[39m\u001b[38;5;124m\"\u001b[39m\u001b[38;5;241m.\u001b[39mjoin(bacillus)\n\u001b[0;32m----> 4\u001b[0m \u001b[38;5;28mprint\u001b[39m(\u001b[43mpeptideEncoding\u001b[49m\u001b[43m(\u001b[49m\u001b[43mSeq\u001b[49m\u001b[43m(\u001b[49m\u001b[43mbacillus\u001b[49m\u001b[43m)\u001b[49m\u001b[43m,\u001b[49m\u001b[43m \u001b[49m\u001b[43mSeq\u001b[49m\u001b[43m(\u001b[49m\u001b[43mTyrocidineB1\u001b[49m\u001b[43m)\u001b[49m\u001b[43m)\u001b[49m)\n",
      "Cell \u001b[0;32mIn[21], line 10\u001b[0m, in \u001b[0;36mpeptideEncoding\u001b[0;34m(seqDNA, peptide)\u001b[0m\n\u001b[1;32m      8\u001b[0m temp \u001b[38;5;241m=\u001b[39m seqDNA[i:i\u001b[38;5;241m+\u001b[39mlength]\n\u001b[1;32m      9\u001b[0m tempReverse \u001b[38;5;241m=\u001b[39m temp\u001b[38;5;241m.\u001b[39mreverse_complement()\n\u001b[0;32m---> 10\u001b[0m tempRNA \u001b[38;5;241m=\u001b[39m rnaToAminoAcid(\u001b[43mdnaToRna\u001b[49m\u001b[43m(\u001b[49m\u001b[43mtemp\u001b[49m\u001b[43m)\u001b[49m)\n\u001b[1;32m     11\u001b[0m tempReverseRNA \u001b[38;5;241m=\u001b[39m rnaToAminoAcid(dnaToRna(tempReverse))\n\u001b[1;32m     12\u001b[0m \u001b[38;5;28;01mif\u001b[39;00m tempRNA \u001b[38;5;241m==\u001b[39m peptide:\n",
      "Cell \u001b[0;32mIn[2], line 9\u001b[0m, in \u001b[0;36mdnaToRna\u001b[0;34m(seqDNA)\u001b[0m\n\u001b[1;32m      7\u001b[0m         seqRNA\u001b[38;5;241m+\u001b[39m\u001b[38;5;241m=\u001b[39m\u001b[38;5;124m'\u001b[39m\u001b[38;5;124mU\u001b[39m\u001b[38;5;124m'\u001b[39m\n\u001b[1;32m      8\u001b[0m     \u001b[38;5;28;01melse\u001b[39;00m:\n\u001b[0;32m----> 9\u001b[0m         seqRNA\u001b[38;5;241m+\u001b[39m\u001b[38;5;241m=\u001b[39m\u001b[43mseqDNA\u001b[49m\u001b[43m[\u001b[49m\u001b[43mi\u001b[49m\u001b[43m]\u001b[49m\n\u001b[1;32m     10\u001b[0m \u001b[38;5;28;01mreturn\u001b[39;00m seqRNA\n",
      "File \u001b[0;32m~/.local/lib/python3.12/site-packages/Bio/Seq.py:523\u001b[0m, in \u001b[0;36m_SeqAbstractBaseClass.__getitem__\u001b[0;34m(self, index)\u001b[0m\n\u001b[1;32m    505\u001b[0m \u001b[38;5;28;01mdef\u001b[39;00m \u001b[38;5;21m__getitem__\u001b[39m(\u001b[38;5;28mself\u001b[39m, index):\n\u001b[1;32m    506\u001b[0m \u001b[38;5;250m    \u001b[39m\u001b[38;5;124;03m\"\"\"Return a subsequence as a single letter or as a sequence object.\u001b[39;00m\n\u001b[1;32m    507\u001b[0m \n\u001b[1;32m    508\u001b[0m \u001b[38;5;124;03m    If the index is an integer, a single letter is returned as a Python\u001b[39;00m\n\u001b[0;32m   (...)\u001b[0m\n\u001b[1;32m    521\u001b[0m \u001b[38;5;124;03m    MutableSeq('ACG')\u001b[39;00m\n\u001b[1;32m    522\u001b[0m \u001b[38;5;124;03m    \"\"\"\u001b[39;00m\n\u001b[0;32m--> 523\u001b[0m     \u001b[38;5;28;01mif\u001b[39;00m \u001b[38;5;28;43misinstance\u001b[39;49m\u001b[43m(\u001b[49m\u001b[43mindex\u001b[49m\u001b[43m,\u001b[49m\u001b[43m \u001b[49m\u001b[43mnumbers\u001b[49m\u001b[38;5;241;43m.\u001b[39;49m\u001b[43mIntegral\u001b[49m\u001b[43m)\u001b[49m:\n\u001b[1;32m    524\u001b[0m         \u001b[38;5;66;03m# Return a single letter as a string\u001b[39;00m\n\u001b[1;32m    525\u001b[0m         \u001b[38;5;28;01mreturn\u001b[39;00m \u001b[38;5;28mchr\u001b[39m(\u001b[38;5;28mself\u001b[39m\u001b[38;5;241m.\u001b[39m_data[index])\n\u001b[1;32m    526\u001b[0m     \u001b[38;5;28;01melse\u001b[39;00m:\n\u001b[1;32m    527\u001b[0m         \u001b[38;5;66;03m# Return the (sub)sequence as another Seq/MutableSeq object\u001b[39;00m\n",
      "File \u001b[0;32m<frozen abc>:117\u001b[0m, in \u001b[0;36m__instancecheck__\u001b[0;34m(cls, instance)\u001b[0m\n",
      "\u001b[0;31mKeyboardInterrupt\u001b[0m: "
     ]
    }
   ],
   "source": [
    "TyrocidineB1 = 'VKLFPWFNQY'\n",
    "bacillus = open(\"Bacillus_brevis.txt\", 'r').read().split()\n",
    "bacillus = \"\".join(bacillus)\n",
    "print(peptideEncoding(Seq(bacillus), Seq(TyrocidineB1)))"
   ]
  },
  {
   "cell_type": "code",
   "execution_count": null,
   "id": "3908c728",
   "metadata": {},
   "outputs": [],
   "source": []
  },
  {
   "cell_type": "markdown",
   "id": "2f6377a4",
   "metadata": {},
   "source": [
    "***\n",
    "We were unable to find any 30-mers in the bacterial genome that encode for Tyrocidine B1. \n",
    "\n",
    "As it turns out, Tyrocidine is a cyclic peptide."
   ]
  },
  {
   "cell_type": "markdown",
   "id": "57734199",
   "metadata": {},
   "source": [
    "#### (6) How many different linear representations of Tyrocidine exist? \n",
    "*A cyclic peptide has each amino acid joined in a circle. Removing a the bond between a pair of amino acids would make the peptide linear. How many ways are there to achieve this?*"
   ]
  },
  {
   "cell_type": "code",
   "execution_count": null,
   "id": "8dd44e02",
   "metadata": {},
   "outputs": [],
   "source": []
  },
  {
   "cell_type": "markdown",
   "id": "52c80bdc",
   "metadata": {},
   "source": [
    "#### (7) Search the *Bacillus brevis* genome for each of the linear representations of Tyrocidine. Did you find any?"
   ]
  },
  {
   "cell_type": "code",
   "execution_count": null,
   "id": "3fbc0e1a",
   "metadata": {},
   "outputs": [],
   "source": []
  }
 ],
 "metadata": {
  "kernelspec": {
   "display_name": "Python 3",
   "language": "python",
   "name": "python3"
  },
  "language_info": {
   "codemirror_mode": {
    "name": "ipython",
    "version": 3
   },
   "file_extension": ".py",
   "mimetype": "text/x-python",
   "name": "python",
   "nbconvert_exporter": "python",
   "pygments_lexer": "ipython3",
   "version": "3.12.2"
  }
 },
 "nbformat": 4,
 "nbformat_minor": 5
}
