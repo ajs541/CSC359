{
 "cells": [
  {
   "cell_type": "markdown",
   "id": "aa988ebd",
   "metadata": {},
   "source": [
    "# Day 11 Lab\n",
    "\n",
    "*Adapted from Bioinformatics Algorithms Chapter 4.*"
   ]
  },
  {
   "cell_type": "markdown",
   "id": "40487839",
   "metadata": {},
   "source": [
    "## Part B - De Novo Peptide Sequencing\n",
    "\n",
    "As it turns out, Tyrocidine is a non-ribosomal protein. This means there are no segments of DNA that encode for Tyrocidine.\n",
    "\n",
    "To figure out the sequence of a peptide like Tyrocidine, we need to use [Mass Spectrometry](https://www.bioinfor.com/denovo-tutorial/).\n",
    "\n",
    "This is going to break the peptide down into fragments and the masses of each fragment are going to be measured. \n",
    "\n",
    "We are now going to use a branch and bound algorithm to determine possible peptide sequences from a spectrum. \n",
    "\n",
    "Before we write our algorithm, I want you to write a bit about the algorithm and then we will write some helper functions. \n",
    "\n",
    "#### (1) What is a branch and bound algorithm? Are there key steps to these kinds of algorithms?\n",
    "*Practice writing about the algorithm here.*"
   ]
  },
  {
   "cell_type": "markdown",
   "id": "dff32cd1",
   "metadata": {},
   "source": [
    "Algorithm that is an exhaustive search to solve optimization problems, with a finite set of possibilities.\n",
    "1) Initialization\n",
    "2) Branching\n",
    "3) Bounding\n",
    "4) Check\n",
    "5) Exploration"
   ]
  },
  {
   "cell_type": "markdown",
   "id": "86b14503",
   "metadata": {},
   "source": [
    "#### (2) Since our mass spectrum output is going to be a set of masses, we are going to think of our peptides as strings of masses, instead of strings of characters. Write a function to convert a peptide to a string of masses.\n",
    "\n",
    "`PeptideToMass(\"NEQL\")` would output `'114-129-128-113'`\n",
    "\n",
    "To help, here is a dictionary of amino acid masses. Note that we are going to assume integer masses and that there are only 18 distinct masses."
   ]
  },
  {
   "cell_type": "code",
   "execution_count": 1,
   "id": "892f483a",
   "metadata": {},
   "outputs": [],
   "source": [
    "aaMasses = {'G': 57, 'A': 71, 'S': 87, 'P': 97, 'V': 99, 'T': 101, 'C': 103, 'I': 113, 'L': 113, 'N': 114, 'D': 115, 'K': 128, 'Q': 128, 'E': 129, 'M': 131, 'H': 137, 'F': 147, 'R': 156, 'Y': 163, 'W': 186}"
   ]
  },
  {
   "cell_type": "code",
   "execution_count": 2,
   "id": "c0a1aa90",
   "metadata": {},
   "outputs": [
    {
     "name": "stdout",
     "output_type": "stream",
     "text": [
      "114-129-128-113\n"
     ]
    }
   ],
   "source": [
    "def peptideToMax(sequence):\n",
    "    l = len(sequence)\n",
    "    seqList = []\n",
    "    for i in range(l):\n",
    "        seqList.append(aaMasses[sequence[i]])\n",
    "    finalString = \"\"\n",
    "    for j in range(l):\n",
    "        finalString+=str(seqList[j])\n",
    "        if j!=l-1:\n",
    "            finalString+=\"-\"\n",
    "    return finalString\n",
    "print(peptideToMax(\"NEQL\"))"
   ]
  },
  {
   "cell_type": "markdown",
   "id": "a49c3547",
   "metadata": {},
   "source": [
    "#### (3) It might be useful to have a function that goes the other way to. Write a `MassToPeptide` function.\n",
    "\n",
    "`MassToPeptide('114-129-128-113')` would output `\"NE(K/Q)(I/L)\"`\n",
    "\n",
    "*Note: I (Isoleucine) and L (Leucine) have the same mass. We cannot determine which is the correct peptide for the last position. Both should be included.* "
   ]
  },
  {
   "cell_type": "code",
   "execution_count": 3,
   "id": "a74d0e62",
   "metadata": {},
   "outputs": [],
   "source": [
    "massesAA = {57: 'G', 71: 'A', 87: 'S', 97: 'P', 99: 'V', 101: 'T', 103: 'C', 113: '(I/L)', 114: 'N', 115: 'D', 128: '(K/Q)', 129: 'E', 131: 'M', 137: 'H', 147: 'F', 156: 'R', 163: 'Y', 186: 'W'}"
   ]
  },
  {
   "cell_type": "code",
   "execution_count": 4,
   "id": "0591affb",
   "metadata": {},
   "outputs": [
    {
     "name": "stdout",
     "output_type": "stream",
     "text": [
      "NE(K/Q)(I/L)\n"
     ]
    }
   ],
   "source": [
    "def massToPeptide(mass: str):\n",
    "    pepList = mass.split('-')\n",
    "    newList = []\n",
    "    for entry in pepList:\n",
    "        newList.append(int(entry))\n",
    "    final = \"\"\n",
    "    for number in newList:\n",
    "        final+=massesAA[number]\n",
    "    return final\n",
    "print(massToPeptide('114-129-128-113'))"
   ]
  },
  {
   "cell_type": "markdown",
   "id": "320e0dbe",
   "metadata": {},
   "source": [
    "#### (4) Given a peptide, we need to know values would exist in its spectrum. This will help us during the bounding phase of our algorithm. Write a `LinearSpectrum` function that will convert a peptide to a list of masses that would exist in its spectrum.\n",
    "\n",
    "`LinearSpectrum(\"NQEL\")` would yield `[0, 113, 114, 128, 129, 242, 242, 257, 370, 371, 484]`\n",
    "\n",
    "\n",
    "\n",
    "<img src = \"https://bioinformaticsalgorithms.com/images/Antibiotics/NQEL_linear_spectrum.png\" width = 500>"
   ]
  },
  {
   "cell_type": "raw",
   "id": "ba9b0565",
   "metadata": {
    "vscode": {
     "languageId": "raw"
    }
   },
   "source": [
    "LinearSpectrum(peptide, aminoAcidMasses = aaMasses)\n",
    "    prefixMass ← a list containing the mass of the 0th amino acid in peptide\n",
    "    \n",
    "    for i ← 1 to |peptide|\n",
    "        add prefixMass[i-1] + aminoAcidMasses[peptide[i]] into prefixMass\n",
    "        \n",
    "    linearSpectrum ← a list containg the mass of an empty peptide\n",
    "    for i ← 0 to |peptide|-1\n",
    "        for j ← i+1 to |peptide|\n",
    "            add prefixMass[j] - prefixMass[i] into linearSpectrum\n",
    "            \n",
    "    add all values in prefixMass into linearSpectrum\n",
    "    sort linearSpectrum\n",
    "    \n",
    "    return the sorted list"
   ]
  },
  {
   "cell_type": "code",
   "execution_count": 5,
   "id": "03448a24",
   "metadata": {},
   "outputs": [
    {
     "name": "stdout",
     "output_type": "stream",
     "text": [
      "[0, 113, 114, 128, 129, 242, 242, 257, 370, 371, 484]\n"
     ]
    }
   ],
   "source": [
    "def linearSpectrum(sequence):\n",
    "    prefixMass = [aaMasses[sequence[0]]]\n",
    "    l = len(sequence)\n",
    "    \n",
    "    for i in range(1,l):\n",
    "        prefixMass.append(prefixMass[i-1] + aaMasses[sequence[i]])\n",
    "    linSpectrum = [0]\n",
    "    i = 0\n",
    "    for i in range(l-1):\n",
    "        for j in range(i+1,l):\n",
    "            linSpectrum.append(prefixMass[j]-prefixMass[i])\n",
    "    for entry in prefixMass:\n",
    "        linSpectrum.append(entry)\n",
    "    linSpectrum.sort()\n",
    "    return linSpectrum\n",
    "    \n",
    "print(linearSpectrum(\"NQEL\"))\n",
    "    "
   ]
  },
  {
   "cell_type": "markdown",
   "id": "438183ea",
   "metadata": {},
   "source": [
    "***\n",
    "Our LinearSpectrum function was a great start, but recall that the peptides we are looking at are cyclical. The function above misses all peptides at the overlap. For example, if we had `NEQL` the above function misses the peptide `LN`, `ELN` and `LNQ` among others.\n",
    "\n",
    "#### (5) Edit your `LinearSpectrum` to take into account the cyclic nature of our peptides. \n",
    "`CyclicSpectrum(\"NQEL\")` would yield an output of `[0, 113, 114, 128, 129, 227, 242, 242, 257, 355, 356, 370, 371, 484]`\n",
    "\n",
    "<img src = \"https://bioinformaticsalgorithms.com/images/Antibiotics/duplicate_elements.png\" width = 500>\n",
    "\n",
    "*Note: The changes to the pseudocode are lines 7, 12 and 13.*"
   ]
  },
  {
   "cell_type": "raw",
   "id": "aa5d0963",
   "metadata": {},
   "source": [
    "CyclicSpectrum(peptide, aminoAcidMasses = aaMasses)\n",
    "    prefixMass ← a list containing the mass of the 0th amino acid in peptide\n",
    "    \n",
    "    for i ← 1 to |peptide|\n",
    "        add prefixMass[i-1] + aminoAcidMasses[peptide[i]] into prefixMass\n",
    "        \n",
    "    parentMass ← prefixMass[|peptide|-1] # mass full length peptide\n",
    "    cyclicSpectrum ← a list containg the mass of an empty peptide\n",
    "    for i ← 1 to |peptide|-1\n",
    "        for j ← i+1 to |peptide|\n",
    "            add prefixMass[j] - prefixMass[i] into cyclicSpectrum\n",
    "            if i < j < |peptide|-1\n",
    "                add parentMass - (prefixMass[j] - prefixMass[i])\n",
    "    add all values in prefixMass into cyclicSpectrum\n",
    "    sort cyclicSpectrum\n",
    "    \n",
    "    return the sorted list"
   ]
  },
  {
   "cell_type": "code",
   "execution_count": 6,
   "id": "8af12db3",
   "metadata": {},
   "outputs": [
    {
     "name": "stdout",
     "output_type": "stream",
     "text": [
      "[0, 113, 114, 128, 129, 227, 242, 242, 257, 355, 356, 370, 371, 484]\n"
     ]
    }
   ],
   "source": [
    "def cyclicSpectrum(sequence):\n",
    "    prefixMass = [aaMasses[sequence[0]]]\n",
    "    l = len(sequence)\n",
    "    \n",
    "    for i in range(1,l):\n",
    "        prefixMass.append(prefixMass[i-1] + aaMasses[sequence[i]])\n",
    "        \n",
    "    parentMass = prefixMass[l-1]\n",
    "    cycSpectrum = [0]\n",
    "    for i in range(l-1):\n",
    "        for j in range(i+1,l):\n",
    "            cycSpectrum.append(prefixMass[j] - prefixMass[i])\n",
    "            if i < j and j < l-1:\n",
    "                cycSpectrum.append(parentMass-(prefixMass[j] - prefixMass[i]))\n",
    "    for entry in prefixMass:\n",
    "        cycSpectrum.append(entry)\n",
    "    cycSpectrum.sort()\n",
    "    return cycSpectrum\n",
    "print(cyclicSpectrum(\"NQEL\"))"
   ]
  },
  {
   "cell_type": "markdown",
   "id": "c92b4a30",
   "metadata": {},
   "source": [
    "#### (6) Edit your `LinearSpectrum` and `CyclicSpectrum` to work with a peptide in mass form. \n",
    "`LinearSpectrumMass('114-128-129-113')` would yield `[0, 113, 114, 128, 129, 242, 242, 257, 370, 371, 484]`\n",
    "`CyclicSpectrumMass('114-128-129-113')` would yield `[0, 113, 114, 128, 129, 227, 242, 242, 257, 355, 356, 370, 371, 484]`"
   ]
  },
  {
   "cell_type": "code",
   "execution_count": 7,
   "id": "ceeb9013",
   "metadata": {},
   "outputs": [
    {
     "name": "stdout",
     "output_type": "stream",
     "text": [
      "[0, 113, 114, 128, 129, 242, 242, 257, 370, 371, 484]\n",
      "[0, 113, 114, 128, 129, 227, 242, 242, 257, 355, 356, 370, 371, 484]\n"
     ]
    }
   ],
   "source": [
    "def superMassToPeptide(massList):\n",
    "    peptide = massToPeptide(massList)\n",
    "    final = \"\"\n",
    "    i = 0\n",
    "    while i<len(peptide):\n",
    "        if peptide[i] == \"(\":\n",
    "            final+=peptide[i+1]\n",
    "            i+=5\n",
    "        else:\n",
    "            final+=peptide[i]\n",
    "            i+=1\n",
    "    return final\n",
    "def linearSpectrumMass(massList):\n",
    "    return linearSpectrum(superMassToPeptide(massList))\n",
    "def cyclicSpectrumMass(massList):\n",
    "    return cyclicSpectrum(superMassToPeptide(massList))\n",
    "x = '114-128-129-113'\n",
    "print(linearSpectrumMass(x))\n",
    "print(cyclicSpectrumMass(x))"
   ]
  },
  {
   "cell_type": "markdown",
   "id": "b94284e4",
   "metadata": {},
   "source": [
    "#### (7) Write a function, `MassInSpectrum(spectrum, aminoAcidMasses = aaMasses)` to determine which individual amino acid masses exist in a spectrum. \n",
    "\n",
    "`MassInSpectrum([0,113,128,186,241,299,314,427])` would return `{113,128,186}`\n",
    "\n",
    "*This function will help us narrow our search field even more when we get to the branching step of our branch and bound algorithm. There is no need to include individual masses in the branch step that don't appear in original spectrum. For a peptide like NEQL, we would only need to have 4 branches at each step instead of 18.*"
   ]
  },
  {
   "cell_type": "code",
   "execution_count": 8,
   "id": "4d9c0b38",
   "metadata": {},
   "outputs": [
    {
     "name": "stdout",
     "output_type": "stream",
     "text": [
      "{128, 113, 186}\n"
     ]
    }
   ],
   "source": [
    "def massInSpectrum(spectrum):\n",
    "    return set([mass for mass in spectrum if mass in aaMasses.values()])\n",
    "print(massInSpectrum([0,113,128,186,241,299,314,427]))"
   ]
  },
  {
   "cell_type": "markdown",
   "id": "7b5ab228",
   "metadata": {},
   "source": [
    "#### (8) Next, write a function called `ExpandPeptides(peptideMassesLst, masses)` that will take in a list of peptides in mass form and a set of possible masses to add on. This function will be called during the branching step of our algorithm.\n",
    "\n",
    "`ExpandPeptides(['114-129', '113-129'],{113,114,128,129})` would yield `['114-129-128', '114-129-113', '114-129-114', '114-129-129', '113-129-128', '113-129-113', '113-129-114', '113-129-129']`"
   ]
  },
  {
   "cell_type": "code",
   "execution_count": 17,
   "id": "98e30db7",
   "metadata": {},
   "outputs": [
    {
     "name": "stdout",
     "output_type": "stream",
     "text": [
      "['114-129-128', '114-129-113', '114-129-114', '114-129-129', '113-129-128', '113-129-113', '113-129-114', '113-129-129']\n"
     ]
    }
   ],
   "source": [
    "def expandPeptides(peptideMassesList, masses):\n",
    "    finalList = []\n",
    "    for entry in peptideMassesList:\n",
    "        for set in masses:\n",
    "            finalList.append(entry+'-'+str(set))\n",
    "    return finalList\n",
    "print(expandPeptides(['114-129', '113-129'],{113,114,128,129}))"
   ]
  },
  {
   "cell_type": "markdown",
   "id": "98912097",
   "metadata": {},
   "source": [
    "#### (9) Write a function that will take the sum of masses from a peptide in mass form.\n",
    "\n",
    "`Mass('114-129-114')` would yield `357`"
   ]
  },
  {
   "cell_type": "code",
   "execution_count": 15,
   "id": "806c7851",
   "metadata": {},
   "outputs": [
    {
     "name": "stdout",
     "output_type": "stream",
     "text": [
      "357\n"
     ]
    }
   ],
   "source": [
    "def mass(masses):\n",
    "    massList = []\n",
    "    masses = masses + ' '\n",
    "    i=0\n",
    "    l=len(masses)\n",
    "    while i < l:\n",
    "        if masses[i]==\"-\" or masses[i]==' ':\n",
    "            massList.append(int(masses[i-3:i]))\n",
    "        i+=1\n",
    "    return(sum(massList))\n",
    "print(mass('114-129-114'))\n",
    "        "
   ]
  },
  {
   "cell_type": "markdown",
   "id": "4a28a524",
   "metadata": {},
   "source": [
    "#### (10) Finally, we are ready to write our branch and bound algorithm! Define the `CyclopeptideSequencing(spectrum)`.\n",
    "\n",
    "`CyclopeptideSequencing([0, 113, 128, 186, 241, 299, 314, 427])` would yield a list like `['186-128-113', '186-113-128', '128-186-113', '128-113-186', '113-186-128', '113-128-186']`"
   ]
  },
  {
   "cell_type": "raw",
   "id": "6604cfe2",
   "metadata": {
    "slideshow": {
     "slide_type": "slide"
    },
    "vscode": {
     "languageId": "raw"
    }
   },
   "source": [
    "CyclopeptideSequencing(spectrum)\n",
    "    # Limit our amino acid masses:\n",
    "    aaCandidateMasses ← set of individual amino acid masses consistent with spectrum\n",
    "    \n",
    "    # Initialize our candidate peptides\n",
    "    candidatePeptides ← aaCandidateMasses converted to a list of strings # Step 1\n",
    "    \n",
    "    parentMass ← max(spectrum) # Mass of full peptide\n",
    "    finalPeptides ← an empty array # These hold peptides that match our spectrum\n",
    "    \n",
    "    while candidatePeptides is nonempty\n",
    "        candidatePeptides ← Expand(candidatePeptides) # Branching Step\n",
    "        \n",
    "        i ← 0\n",
    "        while i < |candidatePeptides|\n",
    "            peptide = candidatePeptides[i]\n",
    "            if Mass(peptide) = parentMass\n",
    "                if theoretical cyclic spectra == spectum\n",
    "                    append peptide into final peptides\n",
    "                remove peptide from candidatePeptides\n",
    "            else if linear theoretical peptide spectra is not consistent with spectrum \n",
    "                remove peptide from candidatePeptides\n",
    "            else\n",
    "                i += 1\n",
    "    return finalPeptides"
   ]
  },
  {
   "cell_type": "code",
   "execution_count": 21,
   "id": "ddd40e86",
   "metadata": {},
   "outputs": [
    {
     "name": "stdout",
     "output_type": "stream",
     "text": [
      "['128-113-186', '128-186-113', '113-128-186', '113-186-128', '186-128-113', '186-113-128']\n"
     ]
    }
   ],
   "source": [
    "def cyclopeptideSequencing(spectrum):\n",
    "    aaCandidateMasses = massInSpectrum(spectrum)\n",
    "    candidatePeptides = [str(x) for x in aaCandidateMasses]\n",
    "    parentMass = max(spectrum)\n",
    "    finalPeptides = []\n",
    "    \n",
    "    while candidatePeptides:\n",
    "        candidatePeptides: list = expandPeptides(candidatePeptides, aaCandidateMasses)\n",
    "        \n",
    "        i=0\n",
    "        while i < len(candidatePeptides):\n",
    "            peptide = candidatePeptides[i]\n",
    "            pepMass = mass(peptide)\n",
    "            if pepMass == parentMass:\n",
    "                if cyclicSpectrumMass(peptide) == spectrum:\n",
    "                    finalPeptides.append(peptide)\n",
    "                candidatePeptides.remove(peptide)\n",
    "            elif pepMass > parentMass:\n",
    "                candidatePeptides.remove(peptide)\n",
    "            elif not all([massA in spectrum for massA in linearSpectrumMass(peptide)]):\n",
    "                candidatePeptides.remove(peptide)\n",
    "            else:\n",
    "                i += 1\n",
    "    return finalPeptides\n",
    "print(cyclopeptideSequencing([0, 113, 128, 186, 241, 299, 314, 427]))\n"
   ]
  }
 ],
 "metadata": {
  "celltoolbar": "Slideshow",
  "kernelspec": {
   "display_name": "Python 3",
   "language": "python",
   "name": "python3"
  },
  "language_info": {
   "codemirror_mode": {
    "name": "ipython",
    "version": 3
   },
   "file_extension": ".py",
   "mimetype": "text/x-python",
   "name": "python",
   "nbconvert_exporter": "python",
   "pygments_lexer": "ipython3",
   "version": "3.12.2"
  }
 },
 "nbformat": 4,
 "nbformat_minor": 5
}
