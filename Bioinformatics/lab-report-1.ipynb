{
 "cells": [
  {
   "cell_type": "markdown",
   "metadata": {},
   "source": [
    "# Lab Report 1 by Aaron Standefer"
   ]
  },
  {
   "cell_type": "markdown",
   "metadata": {},
   "source": [
    "We care about the Origin of Replication (Ori) and the DnaA box because they show where a cell starts its replication process. This is also where the highest likelyhood of deanimation will occur.  My approach was to use some of the functions we created in class, such as `skew` and `freqwords`.  Using these two functions, plus the functions required to power them, I was able to cut down to a small part of the whole Salmonella genome and find the 9-mers with a `d` of 1.  In the end, I got a short list of results of\n",
    "['CCCGGATCC', 'GGATCCGGG', 'CGGATCCGG', 'CCGGATCCG', 'GGATCCTGG', 'CCAGGATCC']."
   ]
  },
  {
   "cell_type": "code",
   "execution_count": 2,
   "metadata": {},
   "outputs": [
    {
     "data": {
      "image/png": "[encoded data removed]",
      "text/plain": [
       "<Figure size 640x480 with 1 Axes>"
      ]
     },
     "metadata": {},
     "output_type": "display_data"
    },
    {
     "name": "stdout",
     "output_type": "stream",
     "text": [
      "['CCCGGATCC', 'GGATCCGGG', 'CGGATCCGG', 'CCGGATCCG', 'GGATCCTGG', 'CCAGGATCC']\n"
     ]
    }
   ],
   "source": [
    "from Day2_Lab import *\n",
    "import matplotlib.pyplot as plt\n",
    "\n",
    "def skew(text):\n",
    "    sCountList = []\n",
    "    sCount = 0\n",
    "    length = len(text)\n",
    "    for i in range(length):\n",
    "        if text[i] == 'C':\n",
    "            sCount -= 1\n",
    "        elif text[i] == 'G':\n",
    "            sCount += 1\n",
    "        sCountList.append(sCount)\n",
    "    return sCountList\n",
    "\n",
    "def minimizeSkew(text):\n",
    "    minimum = 0\n",
    "    locations = []\n",
    "    count = 1\n",
    "    for i in skew(text):\n",
    "        if i < minimum:\n",
    "            minimum = i\n",
    "            locations = [count]\n",
    "        elif i==minimum:\n",
    "            locations.append(count)\n",
    "        count+=1\n",
    "    return locations\n",
    "\n",
    "def neighbors(pattern, d):\n",
    "    nucTides = {'A','C','G','T'}\n",
    "    if d==0:\n",
    "        return {pattern}\n",
    "    if len(pattern)==1:\n",
    "        return nucTides\n",
    "    progNeighbors = neighbors(pattern[1:], d)\n",
    "    \n",
    "    bors = set()\n",
    "    for i in progNeighbors:\n",
    "        if hammingDist(pattern[1:], i) < d:\n",
    "            bors.update([nuc + i for nuc in nucTides])\n",
    "        else:\n",
    "            bors.add(pattern[0] + i)\n",
    "    \n",
    "    return bors\n",
    "\n",
    "def hammingDist(textA, textB):\n",
    "    dist = 0\n",
    "    length = len(textA)\n",
    "    for i in range(length):\n",
    "        if textA[i] != textB[i]:\n",
    "            dist+=1\n",
    "    return dist\n",
    "\n",
    "def freqWordsWithMisMatchRC(text, k, d):\n",
    "    \n",
    "    patterns = []\n",
    "    freqMap = {}\n",
    "    n = len(text)\n",
    "    \n",
    "    for i in range(n-k+1):\n",
    "        pattern = text[i:i+k]\n",
    "        bors = neighbors(pattern, d)\n",
    "        for j in bors:\n",
    "            nB = j\n",
    "            reverseNB = ReverseComplement(j)\n",
    "            freqMap[nB] = freqMap.get(nB, 0) + 1\n",
    "            freqMap[reverseNB] = freqMap.get(reverseNB, 0) + 1\n",
    "    m = MaxMap(freqMap)\n",
    "    for key in freqMap:\n",
    "        if freqMap[key] == m:\n",
    "            patterns.append(key)\n",
    "    return patterns\n",
    "\n",
    "if __name__ in \"__main__\":\n",
    "    salmonella = open(\"Salmonella_enterica.txt\", 'r').read().split()\n",
    "    salmonella = \"\".join(salmonella)\n",
    "\n",
    "    plt.plot(skew(salmonella))\n",
    "    plt.show()\n",
    "    \n",
    "    shortSalmon = minimizeSkew(salmonella)\n",
    "    print(freqWordsWithMisMatchRC(salmonella[shortSalmon[0]:shortSalmon[0]+500], 9, 1))\n",
    "    #['CCCGGATCC', 'GGATCCGGG', 'CGGATCCGG', 'CCGGATCCG', 'GGATCCTGG', 'CCAGGATCC']"
   ]
  }
 ],
 "metadata": {
  "kernelspec": {
   "display_name": "Python 3",
   "language": "python",
   "name": "python3"
  },
  "language_info": {
   "codemirror_mode": {
    "name": "ipython",
    "version": 3
   },
   "file_extension": ".py",
   "mimetype": "text/x-python",
   "name": "python",
   "nbconvert_exporter": "python",
   "pygments_lexer": "ipython3",
   "version": "3.12.2"
  }
 },
 "nbformat": 4,
 "nbformat_minor": 2
}
