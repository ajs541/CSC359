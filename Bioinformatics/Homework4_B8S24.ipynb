{
 "cells": [
  {
   "cell_type": "markdown",
   "id": "314b612b",
   "metadata": {},
   "source": [
    "# Homework 4 and 5\n",
    "\n",
    "The purpose of this assignment is to evaluate the structural similarity between human HBB and Cytoglobin. As this assignment is both longer and harder than others we have done in the course I am breaking it into two parts. The first part is due Monday and the second part will be due Tuesday Morning.\n",
    "\n",
    "### Homework 4:\n",
    "\n",
    "\n",
    "#### (1) Use BLAST or PSI-BLAST to search through PDB to find a structure of Cytoglobin. What search parameters did you use and why? \n",
    "\n",
    "Here is a human HBB sequence you may search with:"
   ]
  },
  {
   "cell_type": "raw",
   "id": "a0a6b436",
   "metadata": {},
   "source": [
    "MVHLTPEEKSAVTALWGKVNVDEVGGEALGRLLVVYPWTQRFFESFGDLSTPDAVM\n",
    "GNPKVKAHGKKVLGAFSDGLAHLDNLKGTFATLSELHCDKLHVDPENFRLLGNVLV\n",
    "CVLAHHFGKEFTPPVQAAYQKVVAGVANALAHKYH"
   ]
  },
  {
   "cell_type": "markdown",
   "id": "b9329ea3",
   "metadata": {},
   "source": [
    "I looked up on wikipedia to find out the shortened name for human cytoglobin (CYGB), then looked that up on PDB and got some results that way.  I made sure to limit it to homo sapiens when i looked as well."
   ]
  },
  {
   "cell_type": "markdown",
   "id": "1afb798e",
   "metadata": {},
   "source": [
    "#### (2) Your search should turn up some hits for Cytoglobin. What are their PDB accession numbers and what was the E-value for these hits? Write me a sentence explaining what their E-values mean."
   ]
  },
  {
   "cell_type": "markdown",
   "id": "8633a87a",
   "metadata": {},
   "source": [
    "I actually had trouble finding cytoglobin thru the HBB sequence.  1URV is the one i ended up clicking on PDB.  E-values are how close a sequence is the the sequence given.  The lower the e-value, the closer it is."
   ]
  },
  {
   "cell_type": "markdown",
   "id": "8f419871",
   "metadata": {},
   "source": [
    "#### (3) Read through the entries on rcsb.org for each hit. For each hit: What is the resolution of the structure? What length is the protein (how many amino acids)? Do the structures contain mutations? If so, what are they?"
   ]
  },
  {
   "cell_type": "markdown",
   "id": "f13603fc",
   "metadata": {},
   "source": [
    "https://www.rcsb.org/structure/1URV\n",
    "2 Mutations in this structure.  2.0 Å.  190 sequence length.  Not actually sure what the mutations are in this protein."
   ]
  },
  {
   "cell_type": "markdown",
   "id": "1e913ca3",
   "metadata": {},
   "source": [
    "#### (4) Pick one of the cytoglobin protein to use for structural analysis. Which one did you choose and why?"
   ]
  },
  {
   "cell_type": "markdown",
   "id": "8f116684",
   "metadata": {},
   "source": [
    "Same one as above, 1URV.  Just happened to be the one I selected."
   ]
  },
  {
   "cell_type": "markdown",
   "id": "f57e1b1f",
   "metadata": {},
   "source": [
    "#### (5) Now pick a HBB protein to use for structural analysis. Which PDB structure did you choose to use and why?\n",
    "*Think about what features might be desirable in a snap shot of the protein (resolution, etc...).*"
   ]
  },
  {
   "cell_type": "markdown",
   "id": "a7b44902",
   "metadata": {},
   "source": [
    "https://www.rcsb.org/structure/1FN3\n",
    "Looked like a good example of HBB and one I haven't looked at before."
   ]
  }
 ],
 "metadata": {
  "kernelspec": {
   "display_name": "Python 3",
   "language": "python",
   "name": "python3"
  },
  "language_info": {
   "codemirror_mode": {
    "name": "ipython",
    "version": 3
   },
   "file_extension": ".py",
   "mimetype": "text/x-python",
   "name": "python",
   "nbconvert_exporter": "python",
   "pygments_lexer": "ipython3",
   "version": "3.12.3"
  }
 },
 "nbformat": 4,
 "nbformat_minor": 5
}
