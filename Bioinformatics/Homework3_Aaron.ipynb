{
 "cells": [
  {
   "cell_type": "markdown",
   "id": "65e94f8d",
   "metadata": {},
   "source": [
    "# Homework 3 - Pairwise Alignments"
   ]
  },
  {
   "cell_type": "markdown",
   "id": "13227de6",
   "metadata": {},
   "source": [
    "#### (1) Using Biopython, perform a pairwise sequence alignment for the following sequences `MTPARGSALS` and `MTPVRRSLS`. Use a match score of 2, a mismatch score of -1 and a gap open of -2 and a gap extension score of -1. What is the alignment and final score?  How many optimal alignments were found?"
   ]
  },
  {
   "cell_type": "code",
   "execution_count": 1,
   "id": "c04ea8ee",
   "metadata": {},
   "outputs": [
    {
     "name": "stdout",
     "output_type": "stream",
     "text": [
      "3.0\n",
      "target            0 MTPARGSALS 10\n",
      "                  0 |||.|.|-|| 10\n",
      "query             0 MTPVRRS-LS  9\n",
      "\n"
     ]
    }
   ],
   "source": [
    "from Bio import Seq, Align\n",
    "\n",
    "seq1 = Seq.Seq(\"MTPARGSALS\")\n",
    "seq2 = Seq.Seq(\"MTPVRRSLS\")\n",
    "\n",
    "aln = Align.PairwiseAligner(match_score=1.0)\n",
    "aln.mismatch_score = -1.0\n",
    "aln.open_gap_score = -2.0\n",
    "aln.extend_gap_score = -1.0\n",
    "print(aln.score(seq1, seq2))\n",
    "alns = aln.align(seq1,seq2)\n",
    "for alignment in alns:\n",
    "    print(alignment)"
   ]
  },
  {
   "cell_type": "markdown",
   "id": "d0f97c26",
   "metadata": {},
   "source": [
    "#### (2) For the same two sequences, find the optimal alignment using the [EMBOSS Needle application](https://www.ebi.ac.uk/Tools/psa/emboss_needle/). Calculate the scores and optimal alignments using the BLOSUM62, PAM250, and PAM30 similarity matrices. Have a gap open penalty of 1 and a gap extension penalty of 1. Copy the results below.\n",
    "\n",
    "*You are performing the alignment 3 times for this question.*\n"
   ]
  },
  {
   "cell_type": "markdown",
   "id": "889e3ce0",
   "metadata": {},
   "source": [
    "##### BLOSUM62"
   ]
  },
  {
   "cell_type": "markdown",
   "id": "fd42b18c",
   "metadata": {},
   "source": [
    "########################################\n",
    "# Program: needle\n",
    "# Rundate: Fri 26 Apr 2024 03:27:17\n",
    "# Commandline: needle\n",
    "#    -auto\n",
    "#    -stdout\n",
    "#    -asequence emboss_needle-I20240426-032708-0524-16919515-p1m.asequence\n",
    "#    -bsequence emboss_needle-I20240426-032708-0524-16919515-p1m.bsequence\n",
    "#    -datafile EBLOSUM62\n",
    "#    -gapopen 1.0\n",
    "#    -gapextend 1.0\n",
    "#    -endopen 10.0\n",
    "#    -endextend 0.5\n",
    "#    -aformat3 pair\n",
    "#    -sprotein1\n",
    "#    -sprotein2\n",
    "# Align_format: pair\n",
    "# Report_file: stdout\n",
    "########################################\n",
    "\n",
    "#=======================================\n",
    "#\n",
    "# Aligned_sequences: 2\n",
    "# 1: EMBOSS_001\n",
    "# 2: EMBOSS_001\n",
    "# Matrix: EBLOSUM62\n",
    "# Gap_penalty: 1.0\n",
    "# Extend_penalty: 1.0\n",
    "#\n",
    "# Length: 10\n",
    "# Identity:       7/10 (70.0%)\n",
    "# Similarity:     7/10 (70.0%)\n",
    "# Gaps:           1/10 (10.0%)\n",
    "# Score: 31.0\n",
    "# \n",
    "#\n",
    "#=======================================\n",
    "\n",
    "EMBOSS_001         1 MTPARGSALS     10\n",
    "                     |||.|.| ||\n",
    "EMBOSS_001         1 MTPVRRS-LS      9\n",
    "\n",
    "\n",
    "#---------------------------------------\n",
    "#---------------------------------------"
   ]
  },
  {
   "cell_type": "markdown",
   "id": "385f3db8",
   "metadata": {},
   "source": [
    "#### PAM250"
   ]
  },
  {
   "cell_type": "markdown",
   "id": "bfe49952",
   "metadata": {},
   "source": [
    "########################################\n",
    "# Program: needle\n",
    "# Rundate: Fri 26 Apr 2024 03:30:07\n",
    "# Commandline: needle\n",
    "#    -auto\n",
    "#    -stdout\n",
    "#    -asequence emboss_needle-I20240426-033002-0520-75941625-p1m.asequence\n",
    "#    -bsequence emboss_needle-I20240426-033002-0520-75941625-p1m.bsequence\n",
    "#    -datafile EPAM250\n",
    "#    -gapopen 1.0\n",
    "#    -gapextend 1.0\n",
    "#    -endopen 10.0\n",
    "#    -endextend 0.5\n",
    "#    -aformat3 pair\n",
    "#    -sprotein1\n",
    "#    -sprotein2\n",
    "# Align_format: pair\n",
    "# Report_file: stdout\n",
    "########################################\n",
    "\n",
    "#=======================================\n",
    "#\n",
    "# Aligned_sequences: 2\n",
    "# 1: EMBOSS_001\n",
    "# 2: EMBOSS_001\n",
    "# Matrix: EPAM250\n",
    "# Gap_penalty: 1.0\n",
    "# Extend_penalty: 1.0\n",
    "#\n",
    "# Length: 10\n",
    "# Identity:       6/10 (60.0%)\n",
    "# Similarity:     7/10 (70.0%)\n",
    "# Gaps:           1/10 (10.0%)\n",
    "# Score: 29.0\n",
    "# \n",
    "#\n",
    "#=======================================\n",
    "\n",
    "EMBOSS_001         1 MTPARGSALS     10\n",
    "                     |||.| .:||\n",
    "EMBOSS_001         1 MTPVR-RSLS      9\n",
    "\n",
    "\n",
    "#---------------------------------------\n",
    "#---------------------------------------\n"
   ]
  },
  {
   "cell_type": "markdown",
   "id": "8b0e8fea",
   "metadata": {},
   "source": [
    "##### PAM30"
   ]
  },
  {
   "cell_type": "markdown",
   "id": "380c369d",
   "metadata": {},
   "source": [
    "########################################\n",
    "# Program: needle\n",
    "# Rundate: Fri 26 Apr 2024 03:31:52\n",
    "# Commandline: needle\n",
    "#    -auto\n",
    "#    -stdout\n",
    "#    -asequence emboss_needle-I20240426-033148-0874-58968650-p1m.asequence\n",
    "#    -bsequence emboss_needle-I20240426-033148-0874-58968650-p1m.bsequence\n",
    "#    -datafile EPAM30\n",
    "#    -gapopen 1.0\n",
    "#    -gapextend 1.0\n",
    "#    -endopen 10.0\n",
    "#    -endextend 0.5\n",
    "#    -aformat3 pair\n",
    "#    -sprotein1\n",
    "#    -sprotein2\n",
    "# Align_format: pair\n",
    "# Report_file: stdout\n",
    "########################################\n",
    "\n",
    "#=======================================\n",
    "#\n",
    "# Aligned_sequences: 2\n",
    "# 1: EMBOSS_001\n",
    "# 2: EMBOSS_001\n",
    "# Matrix: EPAM30\n",
    "# Gap_penalty: 1.0\n",
    "# Extend_penalty: 1.0\n",
    "#\n",
    "# Length: 11\n",
    "# Identity:       7/11 (63.6%)\n",
    "# Similarity:     7/11 (63.6%)\n",
    "# Gaps:           3/11 (27.3%)\n",
    "# Score: 48.0\n",
    "# \n",
    "#\n",
    "#=======================================\n",
    "\n",
    "EMBOSS_001         1 MTPARG-SALS     10\n",
    "                     |||.|  | ||\n",
    "EMBOSS_001         1 MTPVR-RS-LS      9\n",
    "\n",
    "\n",
    "#---------------------------------------\n",
    "#---------------------------------------\n"
   ]
  },
  {
   "cell_type": "markdown",
   "id": "2f95ca78",
   "metadata": {},
   "source": [
    "#### (3) Do the similarity matrices lead to similar alignments, or are their differences? Look at the three matrices and lookup how they were created. Describe your findings here.\n",
    "Similarity matrices do not treat all mis-matches the same. For example, the A (alanine) and G (glycine) amino acids differ by just a single methyl group (CH3, one carbon and 3 hydrogens). They have similar structural and chemical properties. As a result, an A $\\rightarrow$ G substitution is typically not penalized. On the contrast, an A to W (tryptophan) substitution constitutes a large change structurally and chemically and is more heavily penalized.\n",
    "\n",
    "**G** (Glycine) | **A** (Alanine) | **W** (Tryptophan)\n",
    " -- | -- | -- |\n",
    "<img src = \"data:image/png;base64,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\"> | <img src = \"data:image/png;base64,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\"> | <img src = \"data:image/png;base64,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\">"
   ]
  },
  {
   "cell_type": "markdown",
   "id": "ff0ac4db",
   "metadata": {},
   "source": []
  },
  {
   "cell_type": "markdown",
   "id": "513a0a62",
   "metadata": {},
   "source": [
    "#### (4) Implement your own Needleman-Wunsch algorithm. Make the simplifying assumption that there is just a single optimal alignment. \n",
    "*If two moves lead to the same score, keep track of just one. In this situation, prioritize diagonal moves over vertical or lateral.*\n",
    "\n",
    "`NeedlemanWunsch(seqX, seqY, match, mismatch, gap)`\n"
   ]
  },
  {
   "cell_type": "code",
   "execution_count": 16,
   "id": "7edf20b8",
   "metadata": {},
   "outputs": [
    {
     "name": "stdout",
     "output_type": "stream",
     "text": [
      "[[  0.  -2.  -4.  -6.  -8. -10. -12. -14. -16. -18. -20.]\n",
      " [ -2.   1.  -1.  -3.  -5.  -7.  -9. -11. -13. -15. -17.]\n",
      " [ -4.  -1.   2.   0.  -2.  -4.  -6.  -8. -10. -12. -14.]\n",
      " [ -6.  -3.   0.   3.   1.  -1.  -3.  -5.  -7.  -9. -11.]\n",
      " [ -8.  -5.  -2.   1.   2.   0.  -2.  -4.  -6.  -8. -10.]\n",
      " [-10.  -7.  -4.  -1.   0.   3.   1.  -1.  -3.  -5.  -7.]\n",
      " [-12.  -9.  -6.  -3.  -2.   1.   2.   0.  -2.  -4.  -6.]\n",
      " [-14. -11.  -8.  -5.  -4.  -1.   0.   3.   1.  -1.  -3.]\n",
      " [-16. -13. -10.  -7.  -6.  -3.  -2.   1.   2.   2.   0.]\n",
      " [-18. -15. -12.  -9.  -8.  -5.  -4.  -1.   0.   1.   3.]]\n",
      "[['N' 'H' 'H' 'H' 'H' 'H' 'H' 'H' 'H' 'H' 'H']\n",
      " ['V' 'D' 'H' 'H' 'H' 'H' 'H' 'H' 'H' 'H' 'H']\n",
      " ['V' 'V' 'D' 'H' 'H' 'H' 'H' 'H' 'H' 'H' 'H']\n",
      " ['V' 'V' 'V' 'D' 'H' 'H' 'H' 'H' 'H' 'H' 'H']\n",
      " ['V' 'V' 'V' 'V' 'D' 'D' 'D' 'D' 'D' 'D' 'D']\n",
      " ['V' 'V' 'V' 'V' 'D' 'D' 'H' 'H' 'H' 'H' 'H']\n",
      " ['V' 'V' 'V' 'V' 'D' 'D' 'D' 'D' 'D' 'D' 'D']\n",
      " ['V' 'V' 'V' 'V' 'D' 'V' 'D' 'D' 'H' 'H' 'D']\n",
      " ['V' 'V' 'V' 'V' 'D' 'V' 'D' 'V' 'D' 'D' 'H']\n",
      " ['V' 'V' 'V' 'V' 'D' 'V' 'D' 'D' 'D' 'D' 'D']]\n",
      "MTPARGSALS\n",
      "MTPVRRS-LS\n"
     ]
    }
   ],
   "source": [
    "import numpy as np\n",
    "\n",
    "def needlemanWunsch(seqX, seqY, match, mismatch, gap):\n",
    "    lenX = len(seqX)\n",
    "    lenY = len(seqY)\n",
    "    mat = np.zeros((lenY+1,lenX+1))\n",
    "    mat2 = np.zeros((lenY+1,lenX+1),dtype=str)\n",
    "    mat[0,0] = 0\n",
    "    mat2[0,0] = 'N'\n",
    "    for i in range(1,lenY+1):\n",
    "        mat[i,0] = -2*i\n",
    "        mat2[i,0] = 'V'\n",
    "    for j in range(1,lenX+1):\n",
    "        mat[0,j] = -2*j\n",
    "        mat2[0,j] = 'H'\n",
    "    for x in range(1,lenX+1):\n",
    "        for y in range(1,lenY+1):\n",
    "            if seqX[x-1] == seqY[y-1]:\n",
    "                v = match\n",
    "            else:\n",
    "                v = mismatch\n",
    "            diagonal = mat[y-1,x-1] + v\n",
    "            vertical = mat[y-1,x] + gap\n",
    "            horizontal = mat[y,x-1] + gap\n",
    "            mat[y,x] = max(diagonal, vertical, horizontal)\n",
    "            if mat[y,x] == diagonal:\n",
    "                mat2[y,x] = 'D'\n",
    "            elif mat[y,x] == vertical:\n",
    "                mat2[y,x] = 'V'\n",
    "            elif mat[y,x] == horizontal:\n",
    "                mat2[y,x] = 'H'\n",
    "    stringX = \"\"\n",
    "    stringY = \"\"\n",
    "    while x>0 or y>0:\n",
    "        if mat2[y,x] == 'D':\n",
    "            stringY = seqY[y-1] + stringY\n",
    "            stringX = seqX[x-1] + stringX\n",
    "            y-=1\n",
    "            x-=1\n",
    "        elif mat2[y,x] == 'H':\n",
    "            stringY = '-' + stringY\n",
    "            stringX = seqX[x-1] + stringX\n",
    "            x-=1\n",
    "        elif mat2[y,x] == 'V':\n",
    "            stringY = seqY[y-1] + stringY\n",
    "            stringX = '-' + stringX\n",
    "            y-=1\n",
    "    print(mat)\n",
    "    print(mat2)\n",
    "    print(stringX)\n",
    "    print(stringY)\n",
    "\n",
    "needlemanWunsch(\"MTPARGSALS\", \"MTPVRRSLS\", 1, -1, -2)"
   ]
  },
  {
   "cell_type": "code",
   "execution_count": null,
   "id": "7a29af57",
   "metadata": {},
   "outputs": [],
   "source": []
  }
 ],
 "metadata": {
  "kernelspec": {
   "display_name": "Python 3",
   "language": "python",
   "name": "python3"
  },
  "language_info": {
   "codemirror_mode": {
    "name": "ipython",
    "version": 3
   },
   "file_extension": ".py",
   "mimetype": "text/x-python",
   "name": "python",
   "nbconvert_exporter": "python",
   "pygments_lexer": "ipython3",
   "version": "3.12.2"
  }
 },
 "nbformat": 4,
 "nbformat_minor": 5
}
