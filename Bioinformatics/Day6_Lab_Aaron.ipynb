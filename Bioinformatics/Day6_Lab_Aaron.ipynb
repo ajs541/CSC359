{
 "cells": [
  {
   "cell_type": "markdown",
   "id": "b53b0f10",
   "metadata": {},
   "source": [
    "# Lab Day 6 -  Introduction to Bioinformatics Databases - Activity"
   ]
  },
  {
   "cell_type": "markdown",
   "id": "3173009c",
   "metadata": {},
   "source": [
    "#### <font color = \"green\">Activity Goal</font>: Given a sequence, use a range of bioinformatics databases to find out about the sequence. \n",
    "\n",
    "*You are likely to come across a unfamiliar terminology. Use google or wikipedia to search out any terms you need to define quickly.*"
   ]
  },
  {
   "cell_type": "markdown",
   "id": "a1868d31",
   "metadata": {},
   "source": [
    "<p style=\"font-family:'Courier'; font-size: 13px\">>Sample_Sequence_001<br>ACATTTGCTTCTGACACAACTGTGTTCACTAGCAACCTCAAACAGACACCATGGTGCATCTGACTCCTGA<br>GGAGAAGTCTGCCGTTACTGCCCTGTGGGGCAAGGTGAACGTGGATGAAGTTGGTGGTGAGGCCCTGGGC<br>AGGTTGGTATCAAGGTTACAAGACAGGTTTAAGGAGACCAATAGAAACTGGGCATGTGGAGACAGAGAAG<br>ACTCTTGGGTTTCTGATAGGCACTGACTCTCTCTGCCTATTGGTCTATTTTCCCACCCTTAGGCTGCTGG<br>TGGTCTACCCTTGGACCCAGAGGTTCTTTGAGTCCTTTGGGGATCTGTCCACTCCTGATGCTGTTATGGG<br>CAACCCTAAGGTGAAGGCTCATGGCAAGAAAGTGCTCGGTGCCTTTAGTGATGGCCTGGCTCACCTGGAC<br>AACCTCAAGGGCACCTTTGCCACACTGAGTGAGCTGCACTGTGACAAGCTGCACGTGGATCCTGAGAACT<br>TCAGGGTGAGTCTATGGGACGCTTGATGTTTTCTTTCCCCTTCTTTTCTATGGTTAAGTTCATGTCATAG<br>GAAGGGGATAAGTAACAGGGTACAGTTTAGAATGGGAAACAGACGAATGATTGCATCAGTGTGGAAGTCT<br>CAGGATCGTTTTAGTTTCTTTTATTTGCTGTTCATAACAATTGTTTTCTTTTGTTTAATTCTTGCTTTCT<br>TTTTTTTTCTTCTCCGCAATTTTTACTATTATACTTAATGCCTTAACATTGTGTATAACAAAAGGAAATA<br>TCTCTGAGATACATTAAGTAACTTAAAAAAAAACTTTACACAGTCTGCCTAGTACATTACTATTTGGAAT<br>ATATGTGTGCTTATTTGCATATTCATAATCTCCCTACTTTATTTTCTTTTATTTTTAATTGATACATAAT<br>CATTATACATATTTATGGGTTAAAGTGTAATGTTTTAATATGTGTACACATATTGACCAAATCAGGGTAA<br>TTTTGCATTTGTAATTTTAAAAAATGCTTTCTTCTTTTAATATACTTTTTTGTTTATCTTATTTCTAATA<br>CTTTCCCTAATCTCTTTCTTTCAGGGCAATAATGATACAATGTATCATGCCTCTTTGCACCATTCTAAAG<br>AATAACAGTGATAATTTCTGGGTTAAGGCAATAGCAATATCTCTGCATATAAATATTTCTGCATATAAAT<br>TGTAACTGATGTAAGAGGTTTCATATTGCTAATAGCAGCTACAATCCAGCTACCATTCTGCTTTTATTTT<br>ATGGTTGGGATAAGGCTGGATTATTCTGAGTCCAAGCTAGGCCCTTTTGCTAATCATGTTCATACCTCTT<br>ATCTTCCTCCCACAGCTCCTGGGCAACGTGCTGGTCTGTGTGCTGGCCCATCACTTTGGCAAAGAATTCA<br>CCCCACCAGTGCAGGCTGCCTATCAGAAAGTGGTGGCTGGTGTGGCTAATGCCCTGGCCCACAAGTATCA<br>CTAAGCTCGCTTTCTTGCTGTCCAATTTCTATTAAAGGTTCCTTTGTTCCCTAAGTCCAACTACTAAACT<br>GGGGGATATTATGAAGGGCCTTGAGCATCTGGATTCTGCCTAATAAAAAACATTTATTTTCATTGCAA</p>"
   ]
  },
  {
   "cell_type": "markdown",
   "id": "607f3db3",
   "metadata": {},
   "source": [
    "#### Q1 - What type of sequence is represented (DNA, RNA, Protein)? How do you know?"
   ]
  },
  {
   "cell_type": "markdown",
   "id": "3924f99a",
   "metadata": {},
   "source": [
    "DNA, uses the library ACGT."
   ]
  },
  {
   "cell_type": "markdown",
   "id": "79cee0c4",
   "metadata": {},
   "source": [
    "#### Q2 - What primary databases can you use to investigate the sequence?"
   ]
  },
  {
   "cell_type": "markdown",
   "id": "c963a015",
   "metadata": {},
   "source": [
    "Just a small list of the many availible options: ENA, GenBank, DDBJ, ArrayExpress, and GEO."
   ]
  },
  {
   "cell_type": "markdown",
   "id": "7d1925b5",
   "metadata": {},
   "source": [
    "#### Q3 - Sequences in primary databases are stored as flat files. The sequence you were provided is an example of a fasta file format. What sort of information is stored in this file?"
   ]
  },
  {
   "cell_type": "markdown",
   "id": "a9e5a5b5",
   "metadata": {},
   "source": [
    "FASTA files contain one or more sequences, seperated out as a \"title\" line that starts with \">\" followed by a name.  Then the line after that has the actual sequence stored.  This is repeated for the rest of the sequences in the file."
   ]
  },
  {
   "cell_type": "markdown",
   "id": "18091360",
   "metadata": {},
   "source": [
    "#### Q4 - Use BLAST to search the sequence. Which BLAST program did you choose to search with? Why did you choose it? "
   ]
  },
  {
   "cell_type": "code",
   "execution_count": 1,
   "id": "3bee72a2",
   "metadata": {},
   "outputs": [
    {
     "name": "stdout",
     "output_type": "stream",
     "text": [
      "{'>Sample_Sequence_001': 'ACATTTGCTTCTGACACAACTGTGTTCACTAGCAACCTCAAACAGACACCATGGTGCATCTGACTCCTGAGGAGAAGTCTGCCGTTACTGCCCTGTGGGGCAAGGTGAACGTGGATGAAGTTGGTGGTGAGGCCCTGGGCAGGTTGGTATCAAGGTTACAAGACAGGTTTAAGGAGACCAATAGAAACTGGGCATGTGGAGACAGAGAAGACTCTTGGGTTTCTGATAGGCACTGACTCTCTCTGCCTATTGGTCTATTTTCCCACCCTTAGGCTGCTGGTGGTCTACCCTTGGACCCAGAGGTTCTTTGAGTCCTTTGGGGATCTGTCCACTCCTGATGCTGTTATGGGCAACCCTAAGGTGAAGGCTCATGGCAAGAAAGTGCTCGGTGCCTTTAGTGATGGCCTGGCTCACCTGGACAACCTCAAGGGCACCTTTGCCACACTGAGTGAGCTGCACTGTGACAAGCTGCACGTGGATCCTGAGAACTTCAGGGTGAGTCTATGGGACGCTTGATGTTTTCTTTCCCCTTCTTTTCTATGGTTAAGTTCATGTCATAGGAAGGGGATAAGTAACAGGGTACAGTTTAGAATGGGAAACAGACGAATGATTGCATCAGTGTGGAAGTCTCAGGATCGTTTTAGTTTCTTTTATTTGCTGTTCATAACAATTGTTTTCTTTTGTTTAATTCTTGCTTTCTTTTTTTTTCTTCTCCGCAATTTTTACTATTATACTTAATGCCTTAACATTGTGTATAACAAAAGGAAATATCTCTGAGATACATTAAGTAACTTAAAAAAAAACTTTACACAGTCTGCCTAGTACATTACTATTTGGAATATATGTGTGCTTATTTGCATATTCATAATCTCCCTACTTTATTTTCTTTTATTTTTAATTGATACATAATCATTATACATATTTATGGGTTAAAGTGTAATGTTTTAATATGTGTACACATATTGACCAAATCAGGGTAATTTTGCATTTGTAATTTTAAAAAATGCTTTCTTCTTTTAATATACTTTTTTGTTTATCTTATTTCTAATACTTTCCCTAATCTCTTTCTTTCAGGGCAATAATGATACAATGTATCATGCCTCTTTGCACCATTCTAAAGAATAACAGTGATAATTTCTGGGTTAAGGCAATAGCAATATCTCTGCATATAAATATTTCTGCATATAAATTGTAACTGATGTAAGAGGTTTCATATTGCTAATAGCAGCTACAATCCAGCTACCATTCTGCTTTTATTTTATGGTTGGGATAAGGCTGGATTATTCTGAGTCCAAGCTAGGCCCTTTTGCTAATCATGTTCATACCTCTTATCTTCCTCCCACAGCTCCTGGGCAACGTGCTGGTCTGTGTGCTGGCCCATCACTTTGGCAAAGAATTCACCCCACCAGTGCAGGCTGCCTATCAGAAAGTGGTGGCTGGTGTGGCTAATGCCCTGGCCCACAAGTATCACTAAGCTCGCTTTCTTGCTGTCCAATTTCTATTAAAGGTTCCTTTGTTCCCTAAGTCCAACTACTAAACTGGGGGATATTATGAAGGGCCTTGAGCATCTGGATTCTGCCTAATAAAAAACATTTATTTTCATTGCAA'}\n"
     ]
    }
   ],
   "source": [
    "dirtyString = \"ACATTTGCTTCTGACACAACTGTGTTCACTAGCAACCTCAAACAGACACCATGGTGCATCTGACTCCTGA<br>GGAGAAGTCTGCCGTTACTGCCCTGTGGGGCAAGGTGAACGTGGATGAAGTTGGTGGTGAGGCCCTGGGC<br>AGGTTGGTATCAAGGTTACAAGACAGGTTTAAGGAGACCAATAGAAACTGGGCATGTGGAGACAGAGAAG<br>ACTCTTGGGTTTCTGATAGGCACTGACTCTCTCTGCCTATTGGTCTATTTTCCCACCCTTAGGCTGCTGG<br>TGGTCTACCCTTGGACCCAGAGGTTCTTTGAGTCCTTTGGGGATCTGTCCACTCCTGATGCTGTTATGGG<br>CAACCCTAAGGTGAAGGCTCATGGCAAGAAAGTGCTCGGTGCCTTTAGTGATGGCCTGGCTCACCTGGAC<br>AACCTCAAGGGCACCTTTGCCACACTGAGTGAGCTGCACTGTGACAAGCTGCACGTGGATCCTGAGAACT<br>TCAGGGTGAGTCTATGGGACGCTTGATGTTTTCTTTCCCCTTCTTTTCTATGGTTAAGTTCATGTCATAG<br>GAAGGGGATAAGTAACAGGGTACAGTTTAGAATGGGAAACAGACGAATGATTGCATCAGTGTGGAAGTCT<br>CAGGATCGTTTTAGTTTCTTTTATTTGCTGTTCATAACAATTGTTTTCTTTTGTTTAATTCTTGCTTTCT<br>TTTTTTTTCTTCTCCGCAATTTTTACTATTATACTTAATGCCTTAACATTGTGTATAACAAAAGGAAATA<br>TCTCTGAGATACATTAAGTAACTTAAAAAAAAACTTTACACAGTCTGCCTAGTACATTACTATTTGGAAT<br>ATATGTGTGCTTATTTGCATATTCATAATCTCCCTACTTTATTTTCTTTTATTTTTAATTGATACATAAT<br>CATTATACATATTTATGGGTTAAAGTGTAATGTTTTAATATGTGTACACATATTGACCAAATCAGGGTAA<br>TTTTGCATTTGTAATTTTAAAAAATGCTTTCTTCTTTTAATATACTTTTTTGTTTATCTTATTTCTAATA<br>CTTTCCCTAATCTCTTTCTTTCAGGGCAATAATGATACAATGTATCATGCCTCTTTGCACCATTCTAAAG<br>AATAACAGTGATAATTTCTGGGTTAAGGCAATAGCAATATCTCTGCATATAAATATTTCTGCATATAAAT<br>TGTAACTGATGTAAGAGGTTTCATATTGCTAATAGCAGCTACAATCCAGCTACCATTCTGCTTTTATTTT<br>ATGGTTGGGATAAGGCTGGATTATTCTGAGTCCAAGCTAGGCCCTTTTGCTAATCATGTTCATACCTCTT<br>ATCTTCCTCCCACAGCTCCTGGGCAACGTGCTGGTCTGTGTGCTGGCCCATCACTTTGGCAAAGAATTCA<br>CCCCACCAGTGCAGGCTGCCTATCAGAAAGTGGTGGCTGGTGTGGCTAATGCCCTGGCCCACAAGTATCA<br>CTAAGCTCGCTTTCTTGCTGTCCAATTTCTATTAAAGGTTCCTTTGTTCCCTAAGTCCAACTACTAAACT<br>GGGGGATATTATGAAGGGCCTTGAGCATCTGGATTCTGCCTAATAAAAAACATTTATTTTCATTGCAA/\"\n",
    "def motifToFasta(string):\n",
    "    final = {\n",
    "        \">Sample_Sequence_001\":None,\n",
    "    }\n",
    "    i = 0\n",
    "    seqString = \"\"\n",
    "    currentChar = \"\"\n",
    "    while currentChar != \"/\":\n",
    "        currentChar = string[i]\n",
    "        if currentChar==\"A\" or currentChar==\"C\" or currentChar==\"G\" or currentChar==\"T\":\n",
    "            seqString+=currentChar\n",
    "        i+=1\n",
    "        currentChar = string[i]\n",
    "    final[\">Sample_Sequence_001\"] = seqString\n",
    "    i+=1\n",
    "    return final\n",
    "print(motifToFasta(dirtyString))"
   ]
  },
  {
   "cell_type": "markdown",
   "id": "d84ea85f",
   "metadata": {},
   "source": [
    "I just used the basic web BLAST, seemed to be the closest to what we're trying to do.  The top two results were Homo Sapiens Yoruba hemoglobin genes."
   ]
  },
  {
   "cell_type": "markdown",
   "id": "9fd6206d",
   "metadata": {},
   "source": [
    "#### Q5 - What are the accession numbers and names for the top hits from your search?"
   ]
  },
  {
   "cell_type": "markdown",
   "id": "e9c8fa84",
   "metadata": {},
   "source": [
    "Homo Sapiens voucher Yoruba (9 and 13) hemoglobin.  1824 AN."
   ]
  },
  {
   "cell_type": "markdown",
   "id": "9d63de24",
   "metadata": {},
   "source": [
    "#### Q6 - What are the sequence identities for those hits? \n",
    "<i><b><font color = #800080>Sequence identity</font></b> tells you how similar your sequence is to the sequence in the database. In BLAST this is the Percent Identity</i>"
   ]
  },
  {
   "cell_type": "markdown",
   "id": "e3c94298",
   "metadata": {},
   "source": [
    "100% percent identity for all of the entries shown of this hemoglobin."
   ]
  },
  {
   "cell_type": "markdown",
   "id": "3eb3e979",
   "metadata": {},
   "source": [
    "#### Q7 - Open up your top hit. What is the name of the gene/protein associated with your sequence? Can you read the page to see if you can find out any more information about it? \n",
    "*You should now be looking at a GenBank entry*"
   ]
  },
  {
   "cell_type": "markdown",
   "id": "d12d843e",
   "metadata": {},
   "source": [
    "Hemoglobin Subunit beta (HBB) gene.  It's looking at a sickle cell mutation from earlier members of Homo Sapiens that suggests how early humans were exposed to maleria."
   ]
  },
  {
   "cell_type": "markdown",
   "id": "2fbf89b0",
   "metadata": {},
   "source": [
    "#### Q8 - What was the gene symbol for your hit? \n",
    "*The gene symbol is the short hand name of your gene. For example, on day 3 we talked about the genes LHY, CCA1, and TOC1 that are related to circadian rhythm in plants.*"
   ]
  },
  {
   "cell_type": "markdown",
   "id": "009da534",
   "metadata": {},
   "source": [
    "HBB"
   ]
  },
  {
   "cell_type": "markdown",
   "id": "5a8ecf60",
   "metadata": {},
   "source": [
    "#### Q9 - What organism did your gene come from?"
   ]
  },
  {
   "cell_type": "markdown",
   "id": "064eda64",
   "metadata": {},
   "source": [
    "Homo Sapiens"
   ]
  },
  {
   "cell_type": "markdown",
   "id": "31c3e299",
   "metadata": {},
   "source": [
    "#### Q10 - What is the protein product associated with your gene? "
   ]
  },
  {
   "cell_type": "markdown",
   "id": "cffd6735",
   "metadata": {},
   "source": [
    "QBH68930.1"
   ]
  },
  {
   "cell_type": "markdown",
   "id": "6f2b0458",
   "metadata": {},
   "source": [
    "#### Q11 - Copy the translated proteins sequence here form GenBank. What do you notice about the protein sequence compared to the DNA sequence?"
   ]
  },
  {
   "cell_type": "markdown",
   "id": "4a2bb935",
   "metadata": {},
   "source": [
    "MVHLTPEEKSAVTALWGKVNVDEVGGEALGRLLVVYPWTQRFFESFGDLSTPDAVMGNPKVKAHGKKVLGAFSDGLAHLDNLKGTFATLSELHCDKLHVDPENFRLLGNVLVCVLAHHFGKEFTPPVQAAYQKVVAGVANALAHKYH"
   ]
  },
  {
   "cell_type": "markdown",
   "id": "f7ef1424",
   "metadata": {},
   "source": [
    "It is MUCH shorter, which makes sense considering it's a protein.  It's also a very different alphabet since it uses amino acids."
   ]
  },
  {
   "cell_type": "markdown",
   "id": "13c8cf1f",
   "metadata": {},
   "source": [
    "#### Q12 - Copy the translated protein sequence from the GenBank entry and head over to the [PDB](rcsb.org). Paste the sequence into the search bar. Talk about what you found. Include an image of the protein you found here. \n",
    "\n",
    "To add an image you will need a markdown cell and the image url. You can then type: `<img src = \"pasted_url\">` and 'run' the cell."
   ]
  },
  {
   "cell_type": "raw",
   "id": "86012797",
   "metadata": {
    "vscode": {
     "languageId": "raw"
    }
   },
   "source": [
    "The protein is for hemoglobin in humans, it's a full 3D structure and even has a flat file for other software to run it.  Tells us who found this specific protein and when."
   ]
  },
  {
   "cell_type": "markdown",
   "id": "8365aa5e",
   "metadata": {},
   "source": [
    "<img src = \"https://cdn.rcsb.org/images/structures/1dxt_assembly-1.jpeg\">"
   ]
  },
  {
   "cell_type": "markdown",
   "id": "6cc4bfb8",
   "metadata": {},
   "source": [
    "#### Q13 - Use another bioinformatics database to search for information about your sequence. What database(s) did you use? What did you learn? Does your gene have any disease(s) associated with it? If so which? \n",
    "*You don't need to search this sequence again. Instead, can you use some terms that you learned from your first DB search that will help you find out more? Uniprot may be a good place to start.*"
   ]
  },
  {
   "cell_type": "markdown",
   "id": "ea8609d7",
   "metadata": {},
   "source": [
    "I used UniProt.  The entry in this database gave a bit more specific information involving artifacts around this protein, rather than about the specific lab that the entry came from on the previous database.  This gene has the Sickle Cell Disease associated with it."
   ]
  }
 ],
 "metadata": {
  "kernelspec": {
   "display_name": "Python 3",
   "language": "python",
   "name": "python3"
  },
  "language_info": {
   "codemirror_mode": {
    "name": "ipython",
    "version": 3
   },
   "file_extension": ".py",
   "mimetype": "text/x-python",
   "name": "python",
   "nbconvert_exporter": "python",
   "pygments_lexer": "ipython3",
   "version": "3.12.2"
  }
 },
 "nbformat": 4,
 "nbformat_minor": 5
}
