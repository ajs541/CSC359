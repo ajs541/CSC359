{
 "cells": [
  {
   "cell_type": "markdown",
   "id": "6c700b93",
   "metadata": {},
   "source": [
    "# Day 7 Lab - Sequence Alignment and Database Searching\n",
    "\n",
    "Today we will be working with more packages inside of biopython, including SeqIO, Seq, pairwise2, and Entrez. Load those now."
   ]
  },
  {
   "cell_type": "code",
   "execution_count": 2,
   "id": "1904f757",
   "metadata": {},
   "outputs": [],
   "source": [
    "#from Bio import SeqIO, Seq, Align, SeqRecord, Entrez\n",
    "from Bio.Seq import Seq\n",
    "from Bio import SeqIO, Align, SeqRecord, Entrez"
   ]
  },
  {
   "cell_type": "markdown",
   "id": "a2ee5c86",
   "metadata": {},
   "source": [
    "#### (1) Before we jump into real sequences. Lets play with one of our toy examples from lecture. Store the sequences `DPLE` and `DPME` into sequence objects.\n",
    "*Hint: We create sequence objects on Day 5, you may want to look back at your lab.*"
   ]
  },
  {
   "cell_type": "code",
   "execution_count": 3,
   "id": "d3e61830",
   "metadata": {},
   "outputs": [],
   "source": [
    "seq1 = Seq(\"DPLE\")\n",
    "seq2 = Seq(\"DPME\")"
   ]
  },
  {
   "cell_type": "markdown",
   "id": "bff13688",
   "metadata": {},
   "source": [
    "#### (2) Inside of the pairwise2 module, there are many built-in alignment functions. We will use `align.globalxx`. Align the two sequences.\n",
    "\n",
    "*Example: `aln = pairwise2.align.globalxx(seq1, seq2)`*"
   ]
  },
  {
   "cell_type": "code",
   "execution_count": 4,
   "id": "505a2c7f",
   "metadata": {},
   "outputs": [
    {
     "name": "stdout",
     "output_type": "stream",
     "text": [
      "target            0 DPL-E 4\n",
      "                  0 ||--| 5\n",
      "query             0 DP-ME 4\n",
      "\n",
      "target            0 DP-LE 4\n",
      "                  0 ||--| 5\n",
      "query             0 DPM-E 4\n",
      "\n",
      "target            0 DPLE 4\n",
      "                  0 ||.| 4\n",
      "query             0 DPME 4\n",
      "\n"
     ]
    }
   ],
   "source": [
    "aln = Align.PairwiseAligner(match_score=1.0)\n",
    "alns = aln.align(seq1,seq2)\n",
    "for alignment in alns:\n",
    "    print(alignment)"
   ]
  },
  {
   "cell_type": "markdown",
   "id": "ce1a8841",
   "metadata": {},
   "source": [
    "#### (3) What information is stored in the alignment object?"
   ]
  },
  {
   "cell_type": "code",
   "execution_count": 5,
   "id": "d44b1ba9",
   "metadata": {},
   "outputs": [
    {
     "name": "stdout",
     "output_type": "stream",
     "text": [
      "target            0 DPL-E 4\n",
      "                  0 ||--| 5\n",
      "query             0 DP-ME 4\n",
      "\n",
      "[[0 2 3 3 4]\n",
      " [0 2 2 3 4]]\n",
      "2.0\n"
     ]
    }
   ],
   "source": [
    "oneAln = alns[0]\n",
    "print(oneAln)\n",
    "print(oneAln.coordinates)\n",
    "aln.match_score = 1.0\n",
    "aln.mismatch_score = -1.0\n",
    "aln.open_gap_score = -2.0\n",
    "aln.extend_gap_score = -2.0\n",
    "print(aln.score(seq1, seq2))"
   ]
  },
  {
   "cell_type": "markdown",
   "id": "f1aeb84a",
   "metadata": {},
   "source": [
    "The sequences put in, as well as their allignment score, and the scores for mismatch, match, and gap."
   ]
  },
  {
   "cell_type": "markdown",
   "id": "aea4a827",
   "metadata": {},
   "source": [
    "#### (4) View the alignment(s).\n",
    "*Example: `pairwise2.format_alignment(seqA, seqB, score, start, end)` or `pairwise2.format_alignment(*AlignmentObject)` in this example the `*` unpacks the alignment object. Printing either of the two lines of code will display the formatted alignment.*"
   ]
  },
  {
   "cell_type": "code",
   "execution_count": 6,
   "id": "f2472274",
   "metadata": {},
   "outputs": [
    {
     "name": "stdout",
     "output_type": "stream",
     "text": [
      "target            0 DPL-E 4\n",
      "                  0 ||--| 5\n",
      "query             0 DP-ME 4\n",
      "\n",
      "target            0 DP-LE 4\n",
      "                  0 ||--| 5\n",
      "query             0 DPM-E 4\n",
      "\n",
      "target            0 DPLE 4\n",
      "                  0 ||.| 4\n",
      "query             0 DPME 4\n",
      "\n"
     ]
    }
   ],
   "source": [
    "for alignment in alns:\n",
    "    print(alignment)"
   ]
  },
  {
   "cell_type": "markdown",
   "id": "d03a37c3",
   "metadata": {},
   "source": [
    "#### (5) Why do you think you have more than one alignment?"
   ]
  },
  {
   "cell_type": "markdown",
   "id": "74642f52",
   "metadata": {},
   "source": [
    "Because there are mutliple paths that get the same score, therefore they are both correct."
   ]
  },
  {
   "cell_type": "markdown",
   "id": "888d98a0",
   "metadata": {},
   "source": [
    "#### (6) The score of the provided alignment is different from the score we calculated in class. Why? "
   ]
  },
  {
   "cell_type": "markdown",
   "id": "b27def6f",
   "metadata": {},
   "source": [
    "This is due to the built in scores for mismatch, match, and gap being different from the ones we used in class.\n",
    "(I already fixed this above)"
   ]
  },
  {
   "cell_type": "markdown",
   "id": "0d718564",
   "metadata": {},
   "source": [
    "#### (7) What are the default scoring parameters used in the `pairwise2.align.globalxx` function? \n",
    "*What are the match, mismatch, gap and extension penalties? Check out description of the 'xx' [here](https://biopython.org/docs/1.75/api/Bio.pairwise2.html)*\n"
   ]
  },
  {
   "cell_type": "markdown",
   "id": "76b999ec",
   "metadata": {},
   "source": [
    "Match: 1.0\n",
    "Mismatch: 0.0\n",
    "Gap: 0.0"
   ]
  },
  {
   "cell_type": "markdown",
   "id": "72e78e4a",
   "metadata": {},
   "source": [
    "#### (8) Try using different parameters. This time, penalize a gap opening. How does your alignment change? "
   ]
  },
  {
   "cell_type": "markdown",
   "id": "68bf24d5",
   "metadata": {},
   "source": [
    "The score becomes what we found in class when you fix the default parameters to be the same as what we used."
   ]
  },
  {
   "cell_type": "code",
   "execution_count": 7,
   "id": "e4712a70",
   "metadata": {},
   "outputs": [
    {
     "name": "stdout",
     "output_type": "stream",
     "text": [
      "2.0\n"
     ]
    }
   ],
   "source": [
    "print(aln.score(seq1, seq2))"
   ]
  },
  {
   "cell_type": "markdown",
   "id": "97c74c65",
   "metadata": {},
   "source": [
    "***\n",
    "### Now that we have had some practice doing alignments, lets look at some real sequences. Below are the HBA1 and HBB sequences. You can download the fasta file from Moodle (hbb.fasta)."
   ]
  },
  {
   "cell_type": "raw",
   "id": "876ba05d",
   "metadata": {},
   "source": [
    ">gi|14456711|ref|NM_000558.3| Homo sapiens hemoglobin, alpha 1 (HBA1)\n",
    "ACTCTTCTGGTCCCCACAGACTCAGAGAGAACCCACCATGGTGCTGTCTCCTGCCGACAAGACCAACGTC\n",
    "AAGGCCGCCTGGGGTAAGGTCGGCGCGCACGCTGGCGAGTATGGTGCGGAGGCCCTGGAGAGGATGTTCC\n",
    "TGTCCTTCCCCACCACCAAGACCTACTTCCCGCACTTCGACCTGAGCCACGGCTCTGCCCAGGTTAAGGG\n",
    "CCACGGCAAGAAGGTGGCCGACGCGCTGACCAACGCCGTGGCGCACGTGGACGACATGCCCAACGCGCTG\n",
    "TCCGCCCTGAGCGACCTGCACGCGCACAAGCTTCGGGTGGACCCGGTCAACTTCAAGCTCCTAAGCCACT\n",
    "GCCTGCTGGTGACCCTGGCCGCCCACCTCCCCGCCGAGTTCACCCCTGCGGTGCACGCCTCCCTGGACAA\n",
    "GTTCCTGGCTTCTGTGAGCACCGTGCTGACCTCCAAATACCGTTAAGCTGGAGCCTCGGTGGCCATGCTT\n",
    "CTTGCCCCTTGGGCCTCCCCCCAGCCCCTCCTCCCCTTCCTGCACCCGTACCCCCGTGGTCTTTGAATAA\n",
    "AGTCTGAGTGGGCGGC\n",
    ">gi|28302128|ref|NM_000518.4| Homo sapiens hemoglobin, beta (HBB)\n",
    "ACATTTGCTTCTGACACAACTGTGTTCACTAGCAACCTCAAACAGACACCATGGTGCATCTGACTCCTGA\n",
    "GGAGAAGTCTGCCGTTACTGCCCTGTGGGGCAAGGTGAACGTGGATGAAGTTGGTGGTGAGGCCCTGGGC\n",
    "AGGCTGCTGGTGGTCTACCCTTGGACCCAGAGGTTCTTTGAGTCCTTTGGGGATCTGTCCACTCCTGATG\n",
    "CTGTTATGGGCAACCCTAAGGTGAAGGCTCATGGCAAGAAAGTGCTCGGTGCCTTTAGTGATGGCCTGGC\n",
    "TCACCTGGACAACCTCAAGGGCACCTTTGCCACACTGAGTGAGCTGCACTGTGACAAGCTGCACGTGGAT\n",
    "CCTGAGAACTTCAGGCTCCTGGGCAACGTGCTGGTCTGTGTGCTGGCCCATCACTTTGGCAAAGAATTCA\n",
    "CCCCACCAGTGCAGGCTGCCTATCAGAAAGTGGTGGCTGGTGTGGCTAATGCCCTGGCCCACAAGTATCA\n",
    "CTAAGCTCGCTTTCTTGCTGTCCAATTTCTATTAAAGGTTCCTTTGTTCCCTAAGTCCAACTACTAAACT\n",
    "GGGGGATATTATGAAGGGCCTTGAGCATCTGGATTCTGCCTAATAAAAAACATTTATTTTCATTGC"
   ]
  },
  {
   "cell_type": "markdown",
   "id": "3cea6c51",
   "metadata": {},
   "source": [
    "#### (1) On Moodle, I have posted `hbb.fasta`. Download it and open it in here using Biopython.\n",
    "\n",
    "The SeqIO (<b>Seq</b>uence <b>I</b>nput and <b>O</b>utput) interface for biopython allows for the handling of various flat file sequence files, including fasta. Using SeqIO `parse`, read the fasta file in and store the output in a list. \n",
    "\n",
    "Example:\n",
    "`records = list(SeqIO.parse(\"example.fasta\", \"fasta\"))`\n",
    "   \n",
    "[Documentation](https://biopython.org/wiki/SeqIO)<br>\n",
    "[Tutorial](http://biopython.org/DIST/docs/tutorial/Tutorial.html#sec11)"
   ]
  },
  {
   "cell_type": "code",
   "execution_count": 8,
   "id": "64561871",
   "metadata": {},
   "outputs": [],
   "source": [
    "records = list(SeqIO.parse(\"hbb.fasta\", \"fasta\"))"
   ]
  },
  {
   "cell_type": "markdown",
   "id": "08d9c374",
   "metadata": {},
   "source": [
    "#### (2) Above you created a list. What is the length of the list and what type(s) of objects are stored in the list? "
   ]
  },
  {
   "cell_type": "code",
   "execution_count": 9,
   "id": "345eb2a2",
   "metadata": {},
   "outputs": [
    {
     "name": "stdout",
     "output_type": "stream",
     "text": [
      "2\n",
      "[SeqRecord(seq=Seq('ACTCTTCTGGTCCCCACAGACTCAGAGAGAACCCACCATGGTGCTGTCTCCTGC...GGC'), id='gi|14456711|ref|NM_000558.3|', name='gi|14456711|ref|NM_000558.3|', description='gi|14456711|ref|NM_000558.3| Homo sapiens hemoglobin, alpha 1 (HBA1)', dbxrefs=[]), SeqRecord(seq=Seq('ACATTTGCTTCTGACACAACTGTGTTCACTAGCAACCTCAAACAGACACCATGG...TGC'), id='gi|28302128|ref|NM_000518.4|', name='gi|28302128|ref|NM_000518.4|', description='gi|28302128|ref|NM_000518.4| Homo sapiens hemoglobin, beta (HBB)', dbxrefs=[])]\n"
     ]
    }
   ],
   "source": [
    "print(len(records))\n",
    "print(records)"
   ]
  },
  {
   "cell_type": "markdown",
   "id": "914c3356",
   "metadata": {},
   "source": [
    "The actual sequence, as well as the Id, name, description, what species it comes from, as well as the other sequence and the same information."
   ]
  },
  {
   "cell_type": "markdown",
   "id": "f1b97a59",
   "metadata": {},
   "source": [
    "#### (3) Look at the attributes for your sequence record object. Can you access the nucleotide sequences for one of your records?"
   ]
  },
  {
   "cell_type": "code",
   "execution_count": 10,
   "id": "d3e2197c",
   "metadata": {},
   "outputs": [
    {
     "data": {
      "text/plain": [
       "Seq('ACTCTTCTGGTCCCCACAGACTCAGAGAGAACCCACCATGGTGCTGTCTCCTGC...GGC')"
      ]
     },
     "execution_count": 10,
     "metadata": {},
     "output_type": "execute_result"
    }
   ],
   "source": [
    "records[0].seq\n"
   ]
  },
  {
   "cell_type": "code",
   "execution_count": 11,
   "id": "03b81af5",
   "metadata": {},
   "outputs": [
    {
     "name": "stdout",
     "output_type": "stream",
     "text": [
      "ID: gi|14456711|ref|NM_000558.3|\n",
      "Name: gi|14456711|ref|NM_000558.3|\n",
      "Description: gi|14456711|ref|NM_000558.3| Homo sapiens hemoglobin, alpha 1 (HBA1)\n",
      "Number of features: 0\n",
      "Seq('ACTCTTCTGGTCCCCACAGACTCAGAGAGAACCCACCATGGTGCTGTCTCCTGC...GGC')\n"
     ]
    }
   ],
   "source": [
    "print(records[0])"
   ]
  },
  {
   "cell_type": "markdown",
   "id": "ff00801b",
   "metadata": {},
   "source": [
    "#### (4) Generate a pairwise sequence alignment for HBB and HBA1. Use a match score of 2, mismatch of -1, gap opening of -2 and gap extension of -1. "
   ]
  },
  {
   "cell_type": "code",
   "execution_count": 17,
   "id": "993f4e48",
   "metadata": {},
   "outputs": [
    {
     "name": "stdout",
     "output_type": "stream",
     "text": [
      "449.0\n"
     ]
    }
   ],
   "source": [
    "alns = aln.align(records[0].seq, records[1].seq)\n",
    "aln.match_score = 2.0\n",
    "aln.mismatch_score = -1.0\n",
    "aln.open_gap_score = -2.0\n",
    "aln.extend_gap_score = -1.0\n",
    "print(aln.score(records[0].seq, records[1].seq))\n",
    "#for alignment in alns:\n",
    "#    print(alignment)\n",
    "#DO NOT DO THIS, ALMOST COOKED MY PC :("
   ]
  },
  {
   "cell_type": "markdown",
   "id": "2f9e67c6",
   "metadata": {},
   "source": [
    "#### (5) How many optimal alignments did it find?"
   ]
  },
  {
   "cell_type": "code",
   "execution_count": null,
   "id": "f7e3dc6e",
   "metadata": {},
   "outputs": [],
   "source": []
  },
  {
   "cell_type": "markdown",
   "id": "9cd7e999",
   "metadata": {},
   "source": [
    "#### (6) Look at the first alignment. Is the display useful in this format? "
   ]
  },
  {
   "cell_type": "code",
   "execution_count": null,
   "id": "7ef475d1",
   "metadata": {},
   "outputs": [],
   "source": []
  },
  {
   "cell_type": "markdown",
   "id": "fc108033",
   "metadata": {},
   "source": [
    "#### (7) The alignment display is next to useless in this format. Save your sequences as a new fasta file to upload and use on the web.\n",
    "The simplest way to do this is to again use string formatting. The header information can be found in the `record` object. For example, `record[0].description`. The aligned sequence can be found in your alignment object. For example, `aln[0].seqA` or `aln[0].seqB`\n"
   ]
  },
  {
   "cell_type": "code",
   "execution_count": null,
   "id": "3fecda37",
   "metadata": {},
   "outputs": [],
   "source": []
  },
  {
   "cell_type": "markdown",
   "id": "b7df98d1",
   "metadata": {},
   "source": [
    "#### (8) Upload your fasta file into at least one alignment viewer online. [ALIGNMENTVIEWER](https://alignmentviewer.org) is one option. Which one did you use? "
   ]
  },
  {
   "cell_type": "markdown",
   "id": "2fce44d3",
   "metadata": {},
   "source": []
  },
  {
   "cell_type": "markdown",
   "id": "48f1fcba",
   "metadata": {},
   "source": [
    "#### (9) Look through your records object to find the id number of the HBB gene from this lab. The id is the number that follows `gi|` in the header."
   ]
  },
  {
   "cell_type": "code",
   "execution_count": null,
   "id": "ca571ca6",
   "metadata": {},
   "outputs": [],
   "source": []
  },
  {
   "cell_type": "markdown",
   "id": "1e9b0fee",
   "metadata": {},
   "source": []
  },
  {
   "cell_type": "markdown",
   "id": "bd3028a7",
   "metadata": {},
   "source": [
    "#### (10) From the genbank entry locate the translated protein sequence. This can be done either from GenBank's website or using biopython."
   ]
  },
  {
   "cell_type": "raw",
   "id": "d5a3f460",
   "metadata": {},
   "source": [
    "Entrez.email = \"your_email@cornellcollege.edu\"\n",
    "hdl = Entrez.efetch(db = 'nucleotide', id = [seqid], rettype = 'gb', retmode = 'text')\n",
    "records = SeqIO.parse(hdl,'gb')\n",
    "for record in records:\n",
    "    print(record)\n",
    "for feature in record.features:\n",
    "    if feature.type == \"CDS\": # CDS stands for coding sequence\n",
    "        protein_seq = feature.qualifiers['translation'][0]"
   ]
  },
  {
   "cell_type": "code",
   "execution_count": null,
   "id": "0e73b160",
   "metadata": {},
   "outputs": [],
   "source": []
  },
  {
   "cell_type": "code",
   "execution_count": null,
   "id": "55e59109",
   "metadata": {},
   "outputs": [],
   "source": []
  },
  {
   "cell_type": "markdown",
   "id": "d1efdd84",
   "metadata": {},
   "source": [
    "#### (11) Remembering that 3 nucleotides of DNA code for 1 amino acid, think about lengths of sequences. Is the length of your translated protein, shorter, longer or the same length as what you expected? Comment on your findings."
   ]
  },
  {
   "cell_type": "code",
   "execution_count": null,
   "id": "0c5110d8",
   "metadata": {},
   "outputs": [],
   "source": []
  },
  {
   "cell_type": "markdown",
   "id": "0dc040f2",
   "metadata": {},
   "source": []
  },
  {
   "cell_type": "markdown",
   "id": "1260d775",
   "metadata": {},
   "source": [
    "#### (11) Make sure your `protein_seq` is sequence object and not just a string."
   ]
  },
  {
   "cell_type": "code",
   "execution_count": null,
   "id": "008eddb3",
   "metadata": {},
   "outputs": [],
   "source": []
  },
  {
   "cell_type": "markdown",
   "id": "67754daa",
   "metadata": {},
   "source": [
    "#### (12) A patient came to the clinic presenting with chronic anemia. As part of their workup, a blood sample was taken. The following is the sequence of their hemoglobin. Load their sequence into biopython. You may just copy the sequence into a seq object. The sequence is on Moodle if you would like more practice reading in fasta files."
   ]
  },
  {
   "cell_type": "raw",
   "id": "b829ed47",
   "metadata": {},
   "source": [
    ">Patient_Sample\n",
    "MVHLTPEEKSAVTALWGKVNVDEVGGKALGRLLVVYPWTQRFFESFGDLSTPDAVMGNPK\n",
    "VKAHGKKVLGAFSDGLAHLDNLKGTFATLSELHCDKLHVDPENFRLLGNVLVCVLAHHFG\n",
    "KEFTPPVQAAYQKVVAGVANALAHKYH"
   ]
  },
  {
   "cell_type": "code",
   "execution_count": null,
   "id": "55e9a13f",
   "metadata": {},
   "outputs": [],
   "source": []
  },
  {
   "cell_type": "markdown",
   "id": "1612772b",
   "metadata": {},
   "source": [
    "#### (13) Align the patient's sample with the translated HBB protein. Are the two sequences the same? "
   ]
  },
  {
   "cell_type": "code",
   "execution_count": null,
   "id": "63327624",
   "metadata": {},
   "outputs": [],
   "source": []
  },
  {
   "cell_type": "markdown",
   "id": "ac6545e4",
   "metadata": {},
   "source": [
    "#### (14) Search UniProt's website for HBB. What do you think is going on with the patient? "
   ]
  },
  {
   "cell_type": "markdown",
   "id": "afd9c4bf",
   "metadata": {},
   "source": []
  }
 ],
 "metadata": {
  "kernelspec": {
   "display_name": "Python 3",
   "language": "python",
   "name": "python3"
  },
  "language_info": {
   "codemirror_mode": {
    "name": "ipython",
    "version": 3
   },
   "file_extension": ".py",
   "mimetype": "text/x-python",
   "name": "python",
   "nbconvert_exporter": "python",
   "pygments_lexer": "ipython3",
   "version": "3.12.2"
  }
 },
 "nbformat": 4,
 "nbformat_minor": 5
}
