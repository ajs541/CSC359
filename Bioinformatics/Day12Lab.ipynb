{
 "cells": [
  {
   "cell_type": "markdown",
   "id": "225fb853",
   "metadata": {},
   "source": [
    "# Day 12 Lab - Structural Bioinformatics\n",
    "\n",
    "Today we will be exploring the Protein Databank and protein structures."
   ]
  },
  {
   "cell_type": "markdown",
   "id": "93fc6884",
   "metadata": {},
   "source": [
    "#### (1) Navigate to the PDB - rcsb.org. Go to `Analyze` $\\rightarrow$ `PDB Statistics`. How many structures are in the database? What proportion of the entries are protein?"
   ]
  },
  {
   "cell_type": "markdown",
   "id": "0910f9c4",
   "metadata": {},
   "source": [
    "218,000ish.  about 189,000ish are protein."
   ]
  },
  {
   "cell_type": "code",
   "execution_count": null,
   "id": "24880999",
   "metadata": {},
   "outputs": [],
   "source": []
  },
  {
   "cell_type": "markdown",
   "id": "3e8413b8",
   "metadata": {},
   "source": []
  },
  {
   "cell_type": "markdown",
   "id": "ed0a2a9a",
   "metadata": {},
   "source": [
    "#### (2) What types of experiments are used to generate these 3D structures? "
   ]
  },
  {
   "cell_type": "markdown",
   "id": "c00cea41",
   "metadata": {},
   "source": [
    "X-ray, Electron Microscopy (EM), and Nuclear Magnetic Resonance (NMR)."
   ]
  },
  {
   "cell_type": "markdown",
   "id": "13634c19",
   "metadata": {},
   "source": [
    "#### (3) The resolution of protein structures is measured in angstroms Å. What does the distribution of resolutions look like? What is the resolution of most structures in the PDB?\n",
    "\n",
    "*1 Å = 0.1 nm*"
   ]
  },
  {
   "cell_type": "markdown",
   "id": "7a21ec2d",
   "metadata": {},
   "source": [
    "The distribution is a bell curve ranging from <1 A to >=4.6 A, with it peaking at 1.8-2.0 A.  "
   ]
  },
  {
   "cell_type": "markdown",
   "id": "1b6e6af5",
   "metadata": {},
   "source": [
    "#### (4) How does 1 Å  compare to the size of a hydrogen atom? What about to a carbon? "
   ]
  },
  {
   "cell_type": "markdown",
   "id": "3568d7d6",
   "metadata": {},
   "source": [
    "H is about 0.1 nm, C is about 0.16 nm.   So 1 A and 1.6 A respectively."
   ]
  },
  {
   "cell_type": "markdown",
   "id": "56caacfa",
   "metadata": {},
   "source": [
    "#### (5) A protein's primary structure is defined by the string of amino acids making up its sequence. This backbone has carbon - carbon (C-C) bonds and the peptide bond which is a carbon - nitrogen (C-N) bond. What are the lengths of those bonds?\n",
    "\n",
    "<img src = \"https://plantlet.org/wp-content/uploads/2019/12/primaryStructure4.jpg\">\n",
    "\n",
    "*The peptide bond is what holds two different amino acids together. The R in the above image is not another atom but instead represents the group of atoms that make each amino acid unique.*"
   ]
  },
  {
   "cell_type": "markdown",
   "id": "001c55b4",
   "metadata": {},
   "source": [
    "C^2 is 1.3 A, so is C-N."
   ]
  },
  {
   "cell_type": "markdown",
   "id": "00dfaa40",
   "metadata": {},
   "source": [
    "#### (6) Putting together what you learned from questions 3-5, what parts of protein structure do you think can be clearly resolved (put in focus)?"
   ]
  },
  {
   "cell_type": "markdown",
   "id": "50ad5f42",
   "metadata": {},
   "source": []
  },
  {
   "cell_type": "markdown",
   "id": "acae63dd",
   "metadata": {},
   "source": [
    "#### (7) We have been using the HBB protein as an example in class. Find a protein structure for human HBB. What accession numbers did you find?\n",
    "*There are several ways to approach this problem. You can do some key word searches in PDB, directly search the sequence in PDB or you can do a BLAST or HMMER search against the PDB.*\n",
    "\n",
    "*PDB accession numers are a combination of 4 letters or numbers. Sometimes they have an underscore followed by another letter. This indicates what \"chain\" or record inside the PDB file holds the item of interest.*"
   ]
  },
  {
   "cell_type": "markdown",
   "id": "05ea10a9",
   "metadata": {},
   "source": [
    "1RQA"
   ]
  },
  {
   "cell_type": "markdown",
   "id": "9204a358",
   "metadata": {},
   "source": [
    "#### (8) Select one entry from the PDB. Make note of that here. Open the record and use it to answer the following questions. "
   ]
  },
  {
   "cell_type": "markdown",
   "id": "9831f0b1",
   "metadata": {},
   "source": [
    "https://www.rcsb.org/structure/1RQA"
   ]
  },
  {
   "cell_type": "markdown",
   "id": "d4c2d34d",
   "metadata": {},
   "source": [
    "#### (9) What method (experiment) was used to solve the protein structure? When did they solve the structure and what is its resolution? "
   ]
  },
  {
   "cell_type": "markdown",
   "id": "e2016d0b",
   "metadata": {},
   "source": [
    "X-Ray, 12/04/2003, NO has interesting interactions when explosed to HBB."
   ]
  },
  {
   "cell_type": "markdown",
   "id": "3d4ab7ec",
   "metadata": {},
   "source": [
    "#### (10) Does your structure have more than one protein subunit present? If so what chains are the beta subunit stored in? What is the other subunit?"
   ]
  },
  {
   "cell_type": "markdown",
   "id": "6dfa39b1",
   "metadata": {},
   "source": [
    "Yes, four.  B and D chains.  Hemoglobin alpha."
   ]
  },
  {
   "cell_type": "markdown",
   "id": "52473812",
   "metadata": {},
   "source": [
    "#### (11) Does your structure have any small molecules bound? If so what?"
   ]
  },
  {
   "cell_type": "markdown",
   "id": "3d12ca1a",
   "metadata": {},
   "source": [
    "Yes, PROTOPORPHYRIN IX CONTAINING FE and NITRIC OXIDE."
   ]
  },
  {
   "cell_type": "markdown",
   "id": "f8ef04cb",
   "metadata": {},
   "source": [
    "#### (12) Click over to the 3D view spend some time getting familiar with how it works. Describe the overall arrangement of subunits.\n",
    "\n",
    "[3D View Tutorial](https://www.rcsb.org/docs/3d-viewers/mol*/getting-started)"
   ]
  },
  {
   "cell_type": "markdown",
   "id": "5e164287",
   "metadata": {},
   "source": [
    "Four distinct chains all clumped together in almost a cube shape."
   ]
  },
  {
   "cell_type": "markdown",
   "id": "93238ec6",
   "metadata": {},
   "source": [
    "#### (13) What type of secondary structures (helix, beta sheets or unstructured) are formed by hemoglobin? "
   ]
  },
  {
   "cell_type": "markdown",
   "id": "4fdb44aa",
   "metadata": {},
   "source": [
    "Mostly just helix's and unstrucured, I do not see any beta sheets."
   ]
  },
  {
   "cell_type": "markdown",
   "id": "5276549f",
   "metadata": {},
   "source": [
    "#### (14) On the top bar of the viewer you can select the beta protein from the drop down menu. You should now see the primary sequence of the protein. Click on `E` 27. This is the amino acid that got switched to a `K` in the patient who had beta thalassemia. Describe the location of E27 in relation to the protein as a whole.\n",
    "\n",
    "*Note: The dashed lines you see connecting atoms from E27 to another amino acid are electrostatic bonds and important for structural stability.*"
   ]
  },
  {
   "cell_type": "markdown",
   "id": "55fb9aae",
   "metadata": {},
   "source": [
    "It's a helix that's very close to other bonded structures.  Basically there's a lot of activity going on in this area."
   ]
  },
  {
   "cell_type": "markdown",
   "id": "418026bb",
   "metadata": {},
   "source": [
    "It is on the outer edge of the beta subunit, closer to the alpha subunit than to the heme binding group within the beta subunit."
   ]
  },
  {
   "cell_type": "markdown",
   "id": "46eb4321",
   "metadata": {},
   "source": [
    "#### (15) Look at the following amino acid side chain chart. What class of amino acid is Glutamate (E)? What class of amino acid is lysine (K)?\n",
    "<img src = \"https://cdn.technologynetworks.com/tn/images/body/aminoacids-pic3revised1574260662291.png\">"
   ]
  },
  {
   "cell_type": "markdown",
   "id": "a711f99b",
   "metadata": {},
   "source": [
    "Both are electronically charged, E is negative while K is positive."
   ]
  },
  {
   "cell_type": "markdown",
   "id": "119762d4",
   "metadata": {},
   "source": [
    "#### (16) Think about the potential effect of swapping the E to the K. \n",
    "*What happens if you put two magnets with the same polarity together?*"
   ]
  },
  {
   "cell_type": "markdown",
   "id": "164f1749",
   "metadata": {},
   "source": [
    "It would push a lot of the activity going on in this area away from it."
   ]
  },
  {
   "cell_type": "markdown",
   "id": "3dde5523",
   "metadata": {},
   "source": [
    "#### (17) View the PDB file. A pdb file is another type of flat file. What type of information do you see in the file?"
   ]
  },
  {
   "cell_type": "markdown",
   "id": "e33c0c6b",
   "metadata": {},
   "source": [
    "Pretty much everything from the entry, including but not limited to: The people involved, what this is, the results, the actual genome itself, and comments made about it."
   ]
  }
 ],
 "metadata": {
  "kernelspec": {
   "display_name": "Python 3",
   "language": "python",
   "name": "python3"
  },
  "language_info": {
   "codemirror_mode": {
    "name": "ipython",
    "version": 3
   },
   "file_extension": ".py",
   "mimetype": "text/x-python",
   "name": "python",
   "nbconvert_exporter": "python",
   "pygments_lexer": "ipython3",
   "version": "3.8.8"
  }
 },
 "nbformat": 4,
 "nbformat_minor": 5
}
