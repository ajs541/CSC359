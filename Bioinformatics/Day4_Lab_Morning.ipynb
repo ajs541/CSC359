{
 "cells": [
  {
   "cell_type": "markdown",
   "id": "bd4c5424",
   "metadata": {},
   "source": [
    "# Day 4 Lab - Motif Finding: Part 1\n",
    "The goal of today's lab is to write some code to find and score motifs."
   ]
  },
  {
   "cell_type": "markdown",
   "id": "21bd3913",
   "metadata": {},
   "source": [
    "#### (1) Write two functions,`Count` and `Profile`  ,have them take in a collection of DNA strings and have it return either the count or profile matrix.\n",
    "\n",
    "Use numpy arrays to store your profile (or count) matrix.\n",
    "\n",
    "`Count([\"ATA\", \"ATT\",\"GTT\",\"TTT\"])` would have an output of `np.array([[2,0,1], [0,0,0], [1,0,0],[1,4,3]])`<Br><br>\n",
    "`Profile([\"ATA\", \"ATT\",\"GTT\",\"TTT\"])` would have an output of `array([[0.5 , 0.  , 0.25], [0.  , 0.  , 0.  ],[0.25, 0.  , 0.  ],[0.25, 1.  , 0.75]])`"
   ]
  },
  {
   "cell_type": "code",
   "execution_count": 8,
   "id": "cdbe2168",
   "metadata": {},
   "outputs": [],
   "source": [
    "import numpy as np\n",
    "import math"
   ]
  },
  {
   "cell_type": "code",
   "execution_count": 9,
   "id": "a4e0a31a",
   "metadata": {},
   "outputs": [
    {
     "name": "stdout",
     "output_type": "stream",
     "text": [
      "[[2. 0. 1.]\n",
      " [0. 0. 0.]\n",
      " [1. 0. 0.]\n",
      " [1. 4. 3.]]\n",
      "[[0.5  0.   0.25]\n",
      " [0.   0.   0.  ]\n",
      " [0.25 0.   0.  ]\n",
      " [0.25 1.   0.75]]\n"
     ]
    }
   ],
   "source": [
    "def count(dna):\n",
    "    l=len(dna[0])\n",
    "    matrix = np.zeros((4,l))\n",
    "    for i in range(l):\n",
    "        dict = {'A':0, 'C':0, 'G':0, 'T':0}\n",
    "        for seq in dna:\n",
    "            dict[seq[i]]+=1\n",
    "        j=0\n",
    "        for key in dict:\n",
    "            matrix[j,i]=dict[key]\n",
    "            j+=1\n",
    "    return matrix\n",
    "\n",
    "def profile(dna):\n",
    "    return count(dna)*(1/4)\n",
    "x=[\"ATA\",\"ATT\",\"GTT\",\"TTT\"]\n",
    "print(count(x))\n",
    "print(profile(x))\n",
    "            "
   ]
  },
  {
   "cell_type": "markdown",
   "id": "d482a07a",
   "metadata": {},
   "source": [
    "#### (2) Write a function that will calculate the entropy for each column of your profile.\n",
    "\n",
    "A call of `Entropy(profile)` would yield a 1D array of entropy values."
   ]
  },
  {
   "cell_type": "code",
   "execution_count": null,
   "id": "b758f88d",
   "metadata": {},
   "outputs": [],
   "source": [
    "def entropy(profile):\n",
    "    "
   ]
  }
 ],
 "metadata": {
  "kernelspec": {
   "display_name": "Python 3",
   "language": "python",
   "name": "python3"
  },
  "language_info": {
   "codemirror_mode": {
    "name": "ipython",
    "version": 3
   },
   "file_extension": ".py",
   "mimetype": "text/x-python",
   "name": "python",
   "nbconvert_exporter": "python",
   "pygments_lexer": "ipython3",
   "version": "3.12.2"
  }
 },
 "nbformat": 4,
 "nbformat_minor": 5
}
