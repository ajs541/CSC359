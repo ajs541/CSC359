{
 "cells": [
  {
   "cell_type": "markdown",
   "id": "9fd1a0e5",
   "metadata": {},
   "source": [
    "# Day 9 Lab - Database Searching\n",
    "\n",
    "#### (1) Do a quick search to determine the *function* of the proteins was Hemoglobin, Myoglobin and Neuroglobin."
   ]
  },
  {
   "cell_type": "markdown",
   "id": "dbe04107",
   "metadata": {},
   "source": [
    "Hemoglobin: Protein containing iron that transports oxygen in red blood cells.\n",
    "Myoglobin: Iron and Oxygen binding protein found in cardiac and skeletal muscle tissue in vertebrates.\n",
    "Neuroglobin: Member of the vertebrate globin family involved in oxygen homeostatis and oxygen/nitrogen scavenging."
   ]
  },
  {
   "cell_type": "markdown",
   "id": "231b36a1",
   "metadata": {},
   "source": [
    "### Use PSI-BLAST to search your HBB protein against the `refseq_protein` database. Lets see if we can find those distantly related proteins.\n",
    "\n",
    "<font color = 'red'>Run the searches once per group. Everyone in the class does not need to complete the query</font>\n",
    "\n",
    "Use the `refseq_protein` database as our search space. Limit our search to humans (`Homo sampiens (taxid:9606)`)."
   ]
  },
  {
   "cell_type": "raw",
   "id": "3367315e",
   "metadata": {},
   "source": [
    ">gi|4504349|ref|NP_000509.1| hemoglobin subunit beta [Homo sapiens]\n",
    "MVHLTPEEKSAVTALWGKVNVDEVGGEALGRLLVVYPWTQRFFESFGDLSTPDAVM\n",
    "GNPKVKAHGKKVLGAFSDGLAHLDNLKGTFATLSELHCDKLHVDPENFRLLGNVLV\n",
    "CVLAHHFGKEFTPPVQAAYQKVVAGVANALAHKYH"
   ]
  },
  {
   "cell_type": "markdown",
   "id": "b247ca4c",
   "metadata": {},
   "source": [
    "#### (2) After the first iteration of the search, what homologs did you find?"
   ]
  },
  {
   "cell_type": "markdown",
   "id": "b88fae3c",
   "metadata": {},
   "source": [
    "Hemoglobin"
   ]
  },
  {
   "cell_type": "markdown",
   "id": "4e8a4225",
   "metadata": {},
   "source": [
    "#### (3) Run a second iteration of the PSI-BLAST algorithm with `500` sequences. Did you find any other sequences? \n",
    "*Look for lines in your result table that are highlighted in yellow*"
   ]
  },
  {
   "cell_type": "markdown",
   "id": "4c47ca11",
   "metadata": {},
   "source": []
  },
  {
   "cell_type": "markdown",
   "id": "0e3640cc",
   "metadata": {},
   "source": [
    "#### (4) Run a third iteration. Did you find any other proteins?"
   ]
  },
  {
   "cell_type": "markdown",
   "id": "1ff4f393",
   "metadata": {},
   "source": []
  },
  {
   "cell_type": "markdown",
   "id": "73ca31e6",
   "metadata": {},
   "source": [
    "#### (5) Download the FASTA file containing all sequences and perform a multiple sequence alignment (MSA) using [muscle](\n",
    "`FASTA (complete sequences)`"
   ]
  }
 ],
 "metadata": {
  "kernelspec": {
   "display_name": "Python 3",
   "language": "python",
   "name": "python3"
  },
  "language_info": {
   "codemirror_mode": {
    "name": "ipython",
    "version": 3
   },
   "file_extension": ".py",
   "mimetype": "text/x-python",
   "name": "python",
   "nbconvert_exporter": "python",
   "pygments_lexer": "ipython3",
   "version": "3.8.8"
  }
 },
 "nbformat": 4,
 "nbformat_minor": 5
}
