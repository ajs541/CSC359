{
 "cells": [
  {
   "cell_type": "markdown",
   "id": "9642420d",
   "metadata": {},
   "source": [
    "# Day 5 Homework - Motif Finding"
   ]
  },
  {
   "cell_type": "markdown",
   "id": "ec907994",
   "metadata": {},
   "source": [
    "#### (1) Clean the `subtle_motifs.txt` file and convert it to a fasta file format.\n",
    "\n",
    "Below is an example of a fasta file:"
   ]
  },
  {
   "cell_type": "raw",
   "id": "f32932ae",
   "metadata": {},
   "source": [
    ">Seq1\n",
    "LYLIFGAWAGMVGTALSLLIRAELGQPGTLLGDDQIYNVIVTAHAFVMIFFMVMPIMIGGFGNWLVPLMI\n",
    "GAPDMAFPRMNNMSFWLLPPSFLLLLASSTVEAGAGTGWTVYPPLAGNLAHAGASVDLAIFSLHLAGVSS\n",
    "ILGAINFITTAINMKPPTLSQYQTPLFVWSVLITAVLLLLSLPVLAAGITMLLTDRNLNTTFFDPAGGGD\n",
    "PVLYQHLFWFFGHPEVYILIL\n",
    ">Seq2\n",
    "VGTALXLLIRAELXQPGALLGDDQIYNVVVTAHAFVMIFFMVMPIMIGGFGNWLVPLMIGAPDMAFPRMN\n",
    "NMSFWLLPPSFLLLMASSTVEAGAGTGWTVYPPLAGNLAHAGASVDLAIFSLHLAGISSILGAINFITTA\n",
    "INMKPPALSQYQTPLFVWSVLITAVLLLLSLPVLAAGITMLLTDRNLNTTFFDPAGGGDPVLYQHLFWFF\n",
    "GHPEVYILIL\n",
    ">Seq3\n",
    "LYLIFGAWAGMVGTALSLLIRAELGQPGALLGDDQVYNVVVTAHAFVMIFFMVMPIMIGGFGNWLVPLMI\n",
    "GAPDMAFPRMNNMSFWLLPPSFLLLLASSTVEAGVGTGWTVYPPLAGNLAHAGASVDLAIFSLHLAGISS\n",
    "ILGAINFITTAINMKPPALSQYQTPLFVWSVLITAVLLLLSLPVLAAGITMLLTDRNLNTTFFDPAGGGD\n",
    "PVLYQHLFWFFGHPEVYILIL"
   ]
  },
  {
   "cell_type": "markdown",
   "id": "d67c3ae7",
   "metadata": {},
   "source": [
    "New sequences are indicated by a header that starts with a `>` followed by a sequence identifier. \n",
    "\n",
    "You can clean your file by hand or using python (preferred)."
   ]
  },
  {
   "cell_type": "code",
   "execution_count": 13,
   "id": "685dccd5",
   "metadata": {},
   "outputs": [],
   "source": [
    "import re\n",
    "motif = open(\"subtle_motif_dataset.txt\", 'r').read()\n",
    "motifs = re.findall(r\"(?<=[*]).{15}(?=[*])\",motif)\n",
    "def motifToFasta(string):\n",
    "    final = {\n",
    "        \"Seq1\":None,\n",
    "        \"Seq2\":None,\n",
    "        \"Seq3\":None,\n",
    "        \"Seq4\":None,\n",
    "        \"Seq5\":None,\n",
    "        \"Seq6\":None,\n",
    "        \"Seq7\":None,\n",
    "        \"Seq8\":None,\n",
    "        \"Seq9\":None,\n",
    "        \"Seq10\":None\n",
    "    }\n",
    "    i = 0\n",
    "    for key in final:\n",
    "        seqString = \"\"\n",
    "        currentChar = \"\"\n",
    "        while currentChar != \"\\n\":\n",
    "            currentChar = motif[i]\n",
    "            if currentChar != \"*\":\n",
    "                seqString+=currentChar\n",
    "            i+=1\n",
    "            currentChar = motif[i]\n",
    "        final[key] = seqString\n",
    "        i+=1\n",
    "    return final\n",
    "newMotif = motifToFasta(motif)\n",
    "output_path = \"subtle_motifs.txt\"\n",
    "output_file = open(output_path,'w')\n",
    "\n",
    "for seq_id,seq in newMotif.items():\n",
    "    identifier_line = \">\" + seq_id + \"\\n\"\n",
    "    output_file.write(identifier_line)\n",
    "    sequence_line = seq + \"\\n\"\n",
    "    output_file.write(sequence_line)\n",
    "output_file.close()"
   ]
  },
  {
   "cell_type": "markdown",
   "id": "6cd3d1b6",
   "metadata": {},
   "source": [
    "#### (2) Open the  [MEME](https://meme-suite.org/meme/tools/meme) Multiple EM for Motif Elicitation motif finding suite. Given what you know about this set of motifs, what settings do you think you might want to use? \n",
    "\n",
    "This is a generated data set that has implanted 15-mers. One 15-mer per string of DNA."
   ]
  },
  {
   "cell_type": "markdown",
   "id": "8dc28fe1",
   "metadata": {},
   "source": [
    "Well since we only have one set of data to put in, classic is what I would use.  Then I would keep it on DNA/RNA/protein mode.  "
   ]
  },
  {
   "cell_type": "markdown",
   "id": "14d95a4c",
   "metadata": {},
   "source": [
    "#### (3) Submit your `subtle_motifs.fasta` to the MEME software suite. Discuss below what inputs and settings you used. Spend some time browsing through the results. What pieces of information are stored in the output?  \n",
    "\n",
    "If you run into problems, you can use the results can be found [here](https://meme-suite.org/meme/info/status?service=MEME&id=appMEME_5.5.51713557027855587805769). \n",
    "\n",
    "It may be most useful to look at the html output."
   ]
  },
  {
   "cell_type": "markdown",
   "id": "8f7dc34c",
   "metadata": {},
   "source": [
    "I did mostly the default settings, though I did increase the amount of allowable motifs to three to: 1. Make sure that the motif we're trying to find actually is included and 2. I was curious to see what other common motifs could be found in this data set.  The output stores the three motifs it found, and also the locations of each motif in the given sequences."
   ]
  },
  {
   "cell_type": "markdown",
   "id": "e8bfa055",
   "metadata": {},
   "source": [
    "#### (4) What is meant by the E-Value?\n",
    "*You can get a description of the E-value on the html output page, next to the logo. Click on the `?` next to the E-value header* "
   ]
  },
  {
   "cell_type": "markdown",
   "id": "b53ff8a9",
   "metadata": {},
   "source": [
    "The E-value is basically the likelihood/ratio of occurence with respect to each motif.  It mentions that any of them with a too high of an E-value should and will be considered null."
   ]
  },
  {
   "cell_type": "markdown",
   "id": "cdd612a3",
   "metadata": {},
   "source": [
    "#### (5)  Was the discovered motif significant?"
   ]
  },
  {
   "cell_type": "markdown",
   "id": "b5b9b88c",
   "metadata": {},
   "source": [
    "The first one definitely was, it was the one that you had seperated out when we got the .txt file.  Interestingly enough, the other two the program found were also in each of the sequences as well."
   ]
  },
  {
   "cell_type": "markdown",
   "id": "9dcc7fb4",
   "metadata": {},
   "source": [
    "#### Download the `MEME XML output` and open it using biopython. "
   ]
  },
  {
   "cell_type": "code",
   "execution_count": 22,
   "id": "08e8a2e5",
   "metadata": {},
   "outputs": [
    {
     "name": "stdout",
     "output_type": "stream",
     "text": [
      "3\n"
     ]
    }
   ],
   "source": [
    "from Bio.motifs import meme\n",
    "\n",
    "with open(\"meme.xml\") as f:\n",
    "    record = meme.read(f)\n",
    "print(len(record))"
   ]
  },
  {
   "cell_type": "markdown",
   "id": "04fec2d3",
   "metadata": {},
   "source": [
    "#### (6) The discovered motif can be accessed from the record. Print the motifs below.\n",
    "Here is a [tutorial](https://biopython-tutorial.readthedocs.io/en/latest/notebooks/14%20-%20Sequence%20motif%20analysis%20using%20Bio.motifs.html) on the motifs object. "
   ]
  },
  {
   "cell_type": "code",
   "execution_count": 23,
   "id": "f798683f",
   "metadata": {},
   "outputs": [
    {
     "name": "stdout",
     "output_type": "stream",
     "text": [
      "AAAAAGAGAAGGGGGTACGGG\n",
      "AAAAATAGCAGGGTGTGCCTG\n",
      "AAATAAACAGCGGGGTACGCG\n",
      "AAAAAGAGAGGAGTTTGCCCA\n",
      "AGAAAAAAAGGGGTTTTCACG\n",
      "CATAAAACTAGCGGCTACCGG\n",
      "ACAAAAACCAGCGCGTGGCGG\n",
      "CATAGAACACGGGTTTACGTG\n",
      "GAAAATGGGAGATCGTACCGG\n",
      "ATAAAGTAGAGGGGGTCCAAG\n",
      "CTTGGGGACTCGCG\n",
      "CTGGGGTACTCGCC\n",
      "CTGGAGGACTCGCC\n",
      "GCGGGGCACTCGCG\n",
      "CCGGAGGACTCGAG\n",
      "CCTAGGTACTCGGG\n",
      "CTGGGGCCCTCCAG\n",
      "CTGGTGGGCTCCCC\n",
      "CTAAGGGCTTCGCG\n",
      "GCTGTTTACTCGGG\n",
      "AGCTAACTAGG\n",
      "AGCTAACTACG\n",
      "TGCTAACGAGG\n",
      "ATCTAACCAGG\n",
      "GGCTAACAAGG\n",
      "TTCTACCTAGG\n",
      "TGCTAGCCAGG\n",
      "TTCTGACTAGG\n",
      "TGGTAACTAGA\n",
      "AGCTAAGAACG\n"
     ]
    }
   ],
   "source": [
    "for i in range(3):\n",
    "    print(record[i])"
   ]
  },
  {
   "cell_type": "markdown",
   "id": "82e47628",
   "metadata": {},
   "source": [
    "### <i>Skim</i> the [published literature](https://moodle.cornellcollege.edu/mod/resource/view.php?id=246358) about the MEME program and use it to answer the following questions.\n",
    "*This is the paper posted to Moodle. It has some advanced statistics discussed. Scan through the document to see if you can answer the following questions. I DO NOT expect you to fully read or understand the paper. You would need advanced training in statistics for it to be fully understandable.*\n",
    "\n",
    "#### (7) Why do scientists care about motifs?"
   ]
  },
  {
   "cell_type": "markdown",
   "id": "16193aba",
   "metadata": {},
   "source": [
    "Motifs are usually representative of something important in the DNA.  Whether that's an important element of an organism, or some code for the Ori.  The more weight a Motif has, the more important it is."
   ]
  },
  {
   "cell_type": "markdown",
   "id": "dc15da65",
   "metadata": {},
   "source": [
    "#### (8) What kind of algorithm does this program use and how does it work?\n",
    "I am mostly looking for you to name the algorithm. Google the name or search YouTube to find some basic information about how the algorithm works. You can even use ChatGPT to get a basic understanding. *You do not need to fully understand the algorithm, I will not ask you specific questions about it exams or quizzes.*"
   ]
  },
  {
   "cell_type": "markdown",
   "id": "5aa2adfb",
   "metadata": {},
   "source": [
    "The algorithm is the Expectation-Maximization(EM) algotrithm.  First initializing with potential motif sequences, then calculating the probability of each of these, then updating the motif model based on the values of the probabilities, then going between the last two steps until the given criteria is met."
   ]
  }
 ],
 "metadata": {
  "kernelspec": {
   "display_name": "Python 3",
   "language": "python",
   "name": "python3"
  },
  "language_info": {
   "codemirror_mode": {
    "name": "ipython",
    "version": 3
   },
   "file_extension": ".py",
   "mimetype": "text/x-python",
   "name": "python",
   "nbconvert_exporter": "python",
   "pygments_lexer": "ipython3",
   "version": "3.12.2"
  }
 },
 "nbformat": 4,
 "nbformat_minor": 5
}
