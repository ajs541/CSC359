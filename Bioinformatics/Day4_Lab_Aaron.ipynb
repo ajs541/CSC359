{
 "cells": [
  {
   "cell_type": "markdown",
   "id": "b4c2d1e4",
   "metadata": {},
   "source": [
    "# Day 4 Lab - Motif Finding\n",
    "The goal of today's lab is to write some code to find and score motifs.\n",
    "\n",
    "***\n",
    "## Step 1: Count, Profile and Entropy"
   ]
  },
  {
   "cell_type": "markdown",
   "id": "5500b962",
   "metadata": {},
   "source": [
    "#### (1) Write two functions, `Count` and `Profile`, that will take in a collection of DNA strings and have it return either the count or profile matrix.\n",
    "You will want to use a flag parameter inside of your function definition to indicate whether or not you want the count matrix or the profile matrix returned.\n",
    "\n",
    "Use numpy arrays to store your profile (or count) matrix.\n"
   ]
  },
  {
   "cell_type": "code",
   "execution_count": 11,
   "id": "4776b2ad",
   "metadata": {},
   "outputs": [],
   "source": [
    "import numpy as np\n",
    "import math\n",
    "from Day2_Lab import *"
   ]
  },
  {
   "cell_type": "code",
   "execution_count": 2,
   "id": "50171000",
   "metadata": {},
   "outputs": [
    {
     "name": "stdout",
     "output_type": "stream",
     "text": [
      "[[2. 0. 1.]\n",
      " [0. 0. 0.]\n",
      " [1. 0. 0.]\n",
      " [1. 4. 3.]]\n",
      "[[0.5  0.   0.25]\n",
      " [0.   0.   0.  ]\n",
      " [0.25 0.   0.  ]\n",
      " [0.25 1.   0.75]]\n"
     ]
    }
   ],
   "source": [
    "def count(dna):\n",
    "    l=len(dna[0])\n",
    "    matrix = np.zeros((4,l))\n",
    "    for i in range(l):\n",
    "        dict = {'A':0, 'C':0, 'G':0, 'T':0}\n",
    "        for seq in dna:\n",
    "            dict[seq[i]]+=1\n",
    "        j=0\n",
    "        for key in dict:\n",
    "            matrix[j,i]=dict[key]\n",
    "            j+=1\n",
    "    return matrix\n",
    "\n",
    "def profile(dna):\n",
    "    return count(dna)*(1/4)\n",
    "x=[\"ATA\",\"ATT\",\"GTT\",\"TTT\"]\n",
    "print(count(x))\n",
    "print(profile(x))\n",
    "            "
   ]
  },
  {
   "cell_type": "markdown",
   "id": "c19c3f1e",
   "metadata": {},
   "source": [
    "#### (2) Write a function that will calculate the entropy for each column of your profile.\n",
    "\n",
    "A call of `Entropy(profile)` would yield a 1D array of entropy values."
   ]
  },
  {
   "cell_type": "code",
   "execution_count": 3,
   "id": "e0287466",
   "metadata": {},
   "outputs": [
    {
     "name": "stdout",
     "output_type": "stream",
     "text": [
      "[[1.5        0.         0.81127812]]\n"
     ]
    }
   ],
   "source": [
    "def entropy(profile):\n",
    "    col = len(profile[0])\n",
    "    matrix = np.zeros((1,col))\n",
    "    for i in range(col):\n",
    "        temp = []\n",
    "        for j in range(4):\n",
    "            if profile[j,i]>0:\n",
    "                temp.append(profile[j,i])\n",
    "        sum = 0\n",
    "        for k in temp:\n",
    "            sum += k * (math.log2(k))\n",
    "        if sum == 0:\n",
    "            matrix[0,i] = sum\n",
    "        else:\n",
    "            matrix[0,i] = -sum\n",
    "    return matrix\n",
    "print(entropy(profile(x)))"
   ]
  },
  {
   "cell_type": "markdown",
   "id": "89762942",
   "metadata": {},
   "source": [
    "## Step 2: A Brute Force Algorithm: \n",
    "The goal of this step is to implement a brute force solution that looks through all possible motifs to come up with a consensus motif:\n",
    "\n",
    "$$Motifs \\rightarrow Consensus(Motifs)$$\n",
    "\n",
    "#### (3) Write a brute force algorithm to find Motifs:\n",
    "\n",
    "`MotifEnumeration([\"ATTTGGC\",\"TGCCTTA\",\"CGGTATC\", \"GAAAATT\"], 3, 1)` would yield a result of `[\"ATA\", \"ATT\",\"GTT\",\"TTT\"]`\n",
    "\n",
    "All patterns found by this algorithm represent what is called a (k,d)-motif. Each pattern found exists in every string of DNA with at most d mismatches. These are our possible consensus motifs."
   ]
  },
  {
   "cell_type": "raw",
   "id": "76fd8891",
   "metadata": {},
   "source": [
    "MotifEnumeration(Dna, k, d)\n",
    "    Patterns ← an empty set\n",
    "    for each k-mer Pattern in Dna\n",
    "        for each k-mer Pattern’ differing from Pattern by at most d mismatches\n",
    "            if Pattern' appears in each string from Dna with at most d mismatches\n",
    "                add Pattern' to Patterns\n",
    "    return Patterns"
   ]
  },
  {
   "cell_type": "code",
   "execution_count": 4,
   "id": "0d940cec",
   "metadata": {},
   "outputs": [
    {
     "name": "stdout",
     "output_type": "stream",
     "text": [
      "{'ATA', 'GTT', 'TTT', 'ATT'}\n"
     ]
    }
   ],
   "source": [
    "def get_kmers(dna,k):\n",
    "    return list(set([dna[i:i+k] for i in range(len(dna)-k+1)]))\n",
    "def MotifEnumeration(Dna, k, d):\n",
    "    # Brute force algorithm for motif finding.\n",
    "    # Given a collection of strings Dna and an integer d,\n",
    "    # a k-mer is a (k,d)-motif if it appears in every string from\n",
    "    # Dna with at most d mismatches.\n",
    "    patterns = set()\n",
    "    for pattern in get_kmers(Dna[0],k):\n",
    "        for pat in neighbors(pattern,d):\n",
    "            match_all = True\n",
    "            for dna in Dna[1:]: # Check each string of DNA\n",
    "                # Need to see if any neighbors of our pattern are in t\n",
    "                match_all = match_all and any([neighbor in dna for neighbor in neighbors(pat,d)])\n",
    "            if match_all: # if\n",
    "                patterns.update([pat])\n",
    "    return patterns\n",
    "# def motifEnum(dna, k, d):\n",
    "#     patterns = set()\n",
    "#     bigList = []\n",
    "#     for entry in dna:\n",
    "#         tempList = []\n",
    "#         for key in FrequencyTable(dna[entry],k):\n",
    "#             tempList.append(key)\n",
    "x=[\"ATTTGGC\",\"TGCCTTA\",\"CGGTATC\", \"GAAAATT\"]\n",
    "print(MotifEnumeration(x, 3, 1))\n",
    "#CHECK LECTURE NOTES\n",
    "        "
   ]
  },
  {
   "cell_type": "markdown",
   "id": "7160fa51",
   "metadata": {},
   "source": [
    "#### (4) Write a function to compute $d(Pattern, Dna) = \\sum_{i=1}^{t}HammingDistance(Pattern,Dna_i)$\n",
    "\n",
    "`DistanceBetweenPatternAndStrings(\"AAA\",['TTACCTTAAC', 'GATATCTGTC', 'ACGGCGTTCG', 'CCCTAAAGAG', 'CGTCAGAGGT'])` will yield an output of `5`"
   ]
  },
  {
   "cell_type": "code",
   "execution_count": 5,
   "id": "389cc661",
   "metadata": {},
   "outputs": [
    {
     "name": "stdout",
     "output_type": "stream",
     "text": [
      "5\n"
     ]
    }
   ],
   "source": [
    "def distBetweenPatternAndStrings(pattern, dnaList):\n",
    "    k = len(pattern)\n",
    "    dist = 0\n",
    "    for dna in dnaList:\n",
    "        hDist = math.inf\n",
    "        for kmer in get_kmers(dna,k):\n",
    "            if hDist > hammingDist(pattern, kmer):\n",
    "                hDist = hammingDist(pattern, kmer)\n",
    "        dist+=hDist\n",
    "    return dist\n",
    "y=['TTACCTTAAC', 'GATATCTGTC', 'ACGGCGTTCG', 'CCCTAAAGAG', 'CGTCAGAGGT']\n",
    "print(distBetweenPatternAndStrings(\"AAA\", y))\n",
    "        \n",
    "        "
   ]
  },
  {
   "cell_type": "markdown",
   "id": "a0882605",
   "metadata": {},
   "source": [
    "#### (5) Use the function from part 4 to score all consensus motifs found using `MotifEnumeration([\"ATTTGGC\",\"TGCCTTA\",\"CGGTATC GAAAATT\"], 3, 1)`. Which consensus motif had the best score? "
   ]
  },
  {
   "cell_type": "code",
   "execution_count": 6,
   "id": "13594714",
   "metadata": {},
   "outputs": [
    {
     "name": "stdout",
     "output_type": "stream",
     "text": [
      "{'ATA': 4, 'GTT': 4, 'TTT': 3, 'ATT': 2}\n"
     ]
    }
   ],
   "source": [
    "def score(motifList, dnaList):\n",
    "    dict = {}\n",
    "    for motif in motifList:\n",
    "        dict[motif]=distBetweenPatternAndStrings(motif, dnaList)\n",
    "    return dict\n",
    "print(score(MotifEnumeration(x,3,1),x))"
   ]
  },
  {
   "cell_type": "markdown",
   "id": "214864e6",
   "metadata": {},
   "source": [
    "## Step 3: Median Strings Algorithm:\n",
    "This is a variation of a brute force algorithm. Now, instead of looking through all possible Motifs, we are going to be looking through all possible consensus patterns to come up with a collection of motifs. This algorithm will return the consensus pattern with the lowest score.  \n",
    "\n",
    "$$ Consensus(Motifs) \\rightarrow Motifs$$"
   ]
  },
  {
   "cell_type": "markdown",
   "id": "925892e2",
   "metadata": {},
   "source": [
    "#### (6) Write a function called `AllStrings` that will generate a list of all possible $4^k$ k-mers.\n",
    "Can you think of how to use the `Neighbors` function we defined yesterday to generate all k-mers from AA..AA to TT..TT?"
   ]
  },
  {
   "cell_type": "code",
   "execution_count": 7,
   "id": "30259328",
   "metadata": {},
   "outputs": [
    {
     "name": "stdout",
     "output_type": "stream",
     "text": [
      "['TCG', 'GTA', 'GAA', 'TGA', 'TGT', 'CGC', 'ACG', 'TAG', 'CTG', 'TTC', 'GCT', 'AAA', 'AAC', 'AGG', 'AGC', 'CAA', 'CCC', 'TGC', 'TAC', 'GAC', 'ATA', 'GGA', 'CCG', 'GGT', 'GCG', 'CGT', 'ACT', 'CAG', 'AAT', 'TCA', 'GAT', 'TAT', 'TTA', 'GGG', 'AGT', 'AAG', 'GAG', 'TAA', 'CGA', 'TGG', 'GTT', 'GCC', 'ATC', 'CAC', 'ATT', 'CCA', 'TCT', 'ACA', 'AGA', 'CTT', 'GGC', 'TTT', 'ATG', 'CTC', 'CAT', 'CTA', 'CGG', 'TCC', 'CCT', 'GTG', 'GCA', 'GTC', 'TTG', 'ACC']\n"
     ]
    }
   ],
   "source": [
    "def allString(k):\n",
    "    string = \"\"\n",
    "    for _ in range(k):\n",
    "        string+=\"A\"\n",
    "    return(list(neighbors(string, k)))\n",
    "print(allString(3))"
   ]
  },
  {
   "cell_type": "markdown",
   "id": "d11d953e",
   "metadata": {},
   "source": [
    "#### (7) Write a function that will find the solve the Median Strings Problem.\n",
    "`MedianString(['AAATTGACGCAT','GACGACCACGTT','CGTCAGCGCCTG','GCTGAGCACCGG','AGTTCGGGACAG'],3)` will yield an output of `'GAC'`"
   ]
  },
  {
   "cell_type": "raw",
   "id": "fefa79f3",
   "metadata": {},
   "source": [
    "MedianString(Dna, k)\n",
    "    distance ← ∞\n",
    "    Patterns ← AllStrings(k)\n",
    "    for i ← 0 to |Patterns|\n",
    "        Pattern ← Patterns[i]\n",
    "        if distance > DistanceBetweenPatternAndStrings(Pattern, Dna)\n",
    "            distance ← DistanceBetweenPatternAndStrings(Pattern, Dna)\n",
    "            Median ← Pattern\n",
    "    return Median"
   ]
  },
  {
   "cell_type": "code",
   "execution_count": 8,
   "id": "1e333430",
   "metadata": {},
   "outputs": [
    {
     "name": "stdout",
     "output_type": "stream",
     "text": [
      "GAC\n"
     ]
    }
   ],
   "source": [
    "def medianString(dna, k):\n",
    "    dist = math.inf\n",
    "    patterns = allString(k)\n",
    "    for i in range(len(patterns)):\n",
    "        pattern = patterns[i]\n",
    "        if dist > distBetweenPatternAndStrings(pattern, dna):\n",
    "            dist = distBetweenPatternAndStrings(pattern, dna)\n",
    "            median = pattern\n",
    "    return median\n",
    "z=['AAATTGACGCAT','GACGACCACGTT','CGTCAGCGCCTG','GCTGAGCACCGG','AGTTCGGGACAG']\n",
    "print(medianString(z,3))"
   ]
  },
  {
   "cell_type": "markdown",
   "id": "73e6304e",
   "metadata": {},
   "source": [
    "***\n",
    "## Step 4: Lets look at how long it takes two algorithms side by side.\n",
    "\n",
    "Download the `subtle_motif_dataset.txt` from Moodle. This dataset has 10 DNA strings of 600 nucleotides each. Inside of the dataset there is an implanted variation of the motif **AAAAAAAAGGGGGGG**. These motifs are currently marked with an `*`. "
   ]
  },
  {
   "cell_type": "markdown",
   "id": "ca7b8d60",
   "metadata": {},
   "source": [
    "#### (8) Read the file in and pull out all 15-mers marked with the `*`. Store them in a list. \n",
    "\n",
    "Regular expressions will be useful for this step."
   ]
  },
  {
   "cell_type": "code",
   "execution_count": 10,
   "id": "09181a52",
   "metadata": {},
   "outputs": [],
   "source": [
    "import re\n",
    "motif = open(\"subtle_motif_dataset.txt\", 'r').read()\n",
    "motifs = re.findall(r\"(?<=[*]).{15}\", motif)"
   ]
  },
  {
   "cell_type": "markdown",
   "id": "a36ffb52",
   "metadata": {},
   "source": [
    "#### (9) Before we move further we should spend a few minutes cleaning our dataset. Use appropriate string methods to remove all occurrences of the `*` and make sure each DNA string is stored in a list.\n",
    "At the end of this problem, you should have a list of length 10 containing strings of length 600. "
   ]
  },
  {
   "cell_type": "code",
   "execution_count": null,
   "id": "2ba7acd4",
   "metadata": {},
   "outputs": [],
   "source": [
    "def cleanDna(dnaList):\n",
    "    "
   ]
  },
  {
   "cell_type": "markdown",
   "id": "96d96716",
   "metadata": {},
   "source": [
    "#### (10) Call your brute force algorithm `MotifEnumeration` to look for motifs of length 15 (k = 15) with up to 4 mismatches (d = 4). Time how long it takes to run. \n",
    "\n",
    "From the time module, the time function can be used.\n",
    "\n",
    "Store the output of your algorithm into a variable."
   ]
  },
  {
   "cell_type": "code",
   "execution_count": null,
   "id": "34648e53",
   "metadata": {},
   "outputs": [],
   "source": []
  },
  {
   "cell_type": "markdown",
   "id": "bfbd740a",
   "metadata": {},
   "source": [
    "#### (11) How long did it take for your brute force algorithm to run?"
   ]
  },
  {
   "cell_type": "markdown",
   "id": "758595e6",
   "metadata": {},
   "source": []
  },
  {
   "cell_type": "markdown",
   "id": "5cf0d5a4",
   "metadata": {},
   "source": [
    "#### (12) Look at the output from the algorithm. Was it able to find the correct motifs?"
   ]
  },
  {
   "cell_type": "code",
   "execution_count": null,
   "id": "c6fe4fc1",
   "metadata": {},
   "outputs": [],
   "source": []
  },
  {
   "cell_type": "markdown",
   "id": "008eeab4",
   "metadata": {},
   "source": []
  },
  {
   "cell_type": "markdown",
   "id": "e313d53f",
   "metadata": {},
   "source": [
    "#### (13) Now run your `MedianString` algorithm. Time how long it takes to run. "
   ]
  },
  {
   "cell_type": "code",
   "execution_count": null,
   "id": "84e11390",
   "metadata": {},
   "outputs": [],
   "source": []
  },
  {
   "cell_type": "markdown",
   "id": "c8258f5d",
   "metadata": {},
   "source": [
    "#### (14) How did the time for the `MedianString` algorithm compare to the `MotifEnumeration` algorithm? "
   ]
  },
  {
   "cell_type": "markdown",
   "id": "a853a87b",
   "metadata": {},
   "source": []
  },
  {
   "cell_type": "markdown",
   "id": "f6026457",
   "metadata": {},
   "source": [
    "#### (15) Was your `MedianString` able to find the motif `AAAAAAAAGGGGGGG`?"
   ]
  },
  {
   "cell_type": "markdown",
   "id": "db55c9db",
   "metadata": {},
   "source": []
  }
 ],
 "metadata": {
  "kernelspec": {
   "display_name": "Python 3",
   "language": "python",
   "name": "python3"
  },
  "language_info": {
   "codemirror_mode": {
    "name": "ipython",
    "version": 3
   },
   "file_extension": ".py",
   "mimetype": "text/x-python",
   "name": "python",
   "nbconvert_exporter": "python",
   "pygments_lexer": "ipython3",
   "version": "3.12.2"
  }
 },
 "nbformat": 4,
 "nbformat_minor": 5
}
